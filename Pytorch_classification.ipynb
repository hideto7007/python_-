{
  "nbformat": 4,
  "nbformat_minor": 0,
  "metadata": {
    "accelerator": "GPU",
    "colab": {
      "name": "original_画像分類.ipynb",
      "provenance": [],
      "collapsed_sections": [],
      "toc_visible": true,
      "mount_file_id": "1KDZ0YHG8ul48AsEabePEY1PrOkUuYJgA",
      "authorship_tag": "ABX9TyPTCsOfrHZvhEBr2o6gQ7MV",
      "include_colab_link": true
    },
    "kernelspec": {
      "display_name": "Python 3",
      "name": "python3"
    },
    "language_info": {
      "name": "python"
    }
  },
  "cells": [
    {
      "cell_type": "markdown",
      "metadata": {
        "id": "view-in-github",
        "colab_type": "text"
      },
      "source": [
        "<a href=\"https://colab.research.google.com/github/hideto7007/python_image-classification/blob/main/original_%E7%94%BB%E5%83%8F%E5%88%86%E9%A1%9E.ipynb\" target=\"_parent\"><img src=\"https://colab.research.google.com/assets/colab-badge.svg\" alt=\"Open In Colab\"/></a>"
      ]
    },
    {
      "cell_type": "markdown",
      "metadata": {
        "id": "QVxUSUwerZ4l"
      },
      "source": [
        "# CNNモデル(自前画像)"
      ]
    },
    {
      "cell_type": "code",
      "metadata": {
        "id": "_io0bOjgooy6"
      },
      "source": [
        "import torch\n",
        "from torch.utils.data import DataLoader\n",
        "from torchvision import models, transforms\n",
        "import torch.nn as nn\n",
        "import torch.optim as optim\n",
        "\n",
        "import torch.utils.data as data\n",
        "\n",
        "import torchvision\n",
        "\n",
        "import glob\n",
        "import os.path as osp\n",
        "from PIL import Image\n",
        "import numpy as np\n",
        "import pandas as pd\n",
        "import matplotlib.pyplot as plt"
      ],
      "execution_count": null,
      "outputs": []
    },
    {
      "cell_type": "code",
      "metadata": {
        "colab": {
          "base_uri": "https://localhost:8080/",
          "height": 167
        },
        "id": "8bo4yCIyyKRR",
        "outputId": "2273a9cf-6174-4044-f577-ccb5571f8377"
      },
      "source": [
        "img = Image.open(\"/content/drive/MyDrive/python/deep_learning/PyTorch/img_data/train/ants/000001_r.jpg\").convert('RGB')\n",
        "img"
      ],
      "execution_count": null,
      "outputs": [
        {
          "output_type": "execute_result",
          "data": {
            "image/png": "[encoded data removed]",
            "text/plain": [
              "<PIL.Image.Image image mode=RGB size=150x150 at 0x7F2F1B8C1B10>"
            ]
          },
          "metadata": {
            "tags": []
          },
          "execution_count": 88
        }
      ]
    },
    {
      "cell_type": "code",
      "metadata": {
        "colab": {
          "base_uri": "https://localhost:8080/"
        },
        "id": "bo-Ti8mRypSV",
        "outputId": "9617b2b7-3f71-4c5a-9306-c502782721dd"
      },
      "source": [
        "img_array = np.array(img)\n",
        "img_array.shape"
      ],
      "execution_count": null,
      "outputs": [
        {
          "output_type": "execute_result",
          "data": {
            "text/plain": [
              "(150, 150, 3)"
            ]
          },
          "metadata": {
            "tags": []
          },
          "execution_count": 89
        }
      ]
    },
    {
      "cell_type": "code",
      "metadata": {
        "colab": {
          "base_uri": "https://localhost:8080/",
          "height": 35
        },
        "id": "2KjcjpafaJyU",
        "outputId": "5a2b132b-7092-4c4b-ac0f-145d7840e0a8"
      },
      "source": [
        "# パスの確認\n",
        "\n",
        "#a = '/content/drive/MyDrive/python/deep_learning/PyTorch/img_data/train/ants/000001_r.jpg'\n",
        "#a[67:71]\n",
        "\n",
        "b = '/content/drive/MyDrive/python/deep_learning/PyTorch/img_data/val/hati/000060_r.jpg'\n",
        "b[65:69]\n",
        "\n",
        "\n",
        "#c = './data/hymenoptera_data/train/ants/470127037_513711fd21.jpg'\n",
        "#c[30:34]"
      ],
      "execution_count": null,
      "outputs": [
        {
          "output_type": "execute_result",
          "data": {
            "application/vnd.google.colaboratory.intrinsic+json": {
              "type": "string"
            },
            "text/plain": [
              "'hati'"
            ]
          },
          "metadata": {
            "tags": []
          },
          "execution_count": 90
        }
      ]
    },
    {
      "cell_type": "code",
      "metadata": {
        "id": "mTgGYZkuW0ZP"
      },
      "source": [
        "from torchvision import transforms\n",
        "\n",
        "img = Image.open(\"/content/drive/MyDrive/python/deep_learning/PyTorch/img_data/train/ants/000001_r.jpg\").convert('RGB')\n",
        "img\n",
        "\n",
        "class ImageTransform():\n",
        "    \"\"\"\n",
        "    画像の前処理クラス。訓練時、検証時で異なる動作をする。\n",
        "    画像のサイズをリサイズし、色を標準化する。\n",
        "    訓練時はRandomResizedCropとRandomHorizontalFlipでデータオーギュメンテーションする。\n",
        "\n",
        "\n",
        "    Attributes\n",
        "    ----------\n",
        "    resize : int\n",
        "        リサイズ先の画像の大きさ。\n",
        "    mean : (R, G, B)\n",
        "        各色チャネルの平均値。\n",
        "    std : (R, G, B)\n",
        "        各色チャネルの標準偏差。\n",
        "    \"\"\"\n",
        "\n",
        "    def __init__(self, resize, mean, std):\n",
        "        self.data_transform = {\n",
        "            'train': transforms.Compose([\n",
        "                transforms.RandomResizedCrop(\n",
        "                    resize, scale=(0.5, 1.0)),  # データオーギュメンテーション\n",
        "                transforms.RandomHorizontalFlip(),  # データオーギュメンテーション\n",
        "                transforms.ToTensor(),  # テンソルに変換\n",
        "                transforms.Normalize(mean, std)  # 標準化\n",
        "            ]),\n",
        "            'val': transforms.Compose([\n",
        "                transforms.Resize(resize),  # リサイズ\n",
        "                transforms.CenterCrop(resize),  # 画像中央をresize×resizeで切り取り\n",
        "                transforms.ToTensor(),  # テンソルに変換\n",
        "                transforms.Normalize(mean, std)  # 標準化\n",
        "            ])\n",
        "        }\n",
        "\n",
        "    def __call__(self, img, phase='train'):\n",
        "        \"\"\"\n",
        "        Parameters\n",
        "        ----------\n",
        "        phase : 'train' or 'val'\n",
        "            前処理のモードを指定。\n",
        "        \"\"\"\n",
        "        return self.data_transform[phase](img)\n",
        "\n"
      ],
      "execution_count": null,
      "outputs": []
    },
    {
      "cell_type": "code",
      "metadata": {
        "colab": {
          "base_uri": "https://localhost:8080/",
          "height": 269
        },
        "id": "X3y37mm8XCRf",
        "outputId": "39159c8a-8233-4621-89ed-ec8f337a76fd"
      },
      "source": [
        "size = 224\n",
        "mean = (0.485, 0.456, 0.406)\n",
        "std = (0.229, 0.224, 0.225)\n",
        "\n",
        "transform = ImageTransform(size, mean, std)\n",
        "img_transformed = transform(img, phase=\"train\") # torch.Size([3, 224, 224])\n",
        "\n",
        "# (色、高さ、幅)を (高さ、幅、色)に変換し、0-1に値を制限して表示\n",
        "img_transformed = img_transformed.numpy().transpose((1, 2, 0))\n",
        "img_transformed = np.clip(img_transformed, 0, 1)\n",
        "plt.imshow(img_transformed)\n",
        "plt.show()"
      ],
      "execution_count": null,
      "outputs": [
        {
          "output_type": "display_data",
          "data": {
            "image/png": "[encoded data removed]",
            "text/plain": [
              "<Figure size 432x288 with 1 Axes>"
            ]
          },
          "metadata": {
            "tags": [],
            "needs_background": "light"
          }
        }
      ]
    },
    {
      "cell_type": "code",
      "metadata": {
        "colab": {
          "base_uri": "https://localhost:8080/"
        },
        "id": "0MFCUkhGnxH8",
        "outputId": "5aa4f211-098a-4a32-83e1-6b7ee352d174"
      },
      "source": [
        "img_transformed_array = np.array(img_transformed)\n",
        "img_transformed_array.shape"
      ],
      "execution_count": null,
      "outputs": [
        {
          "output_type": "execute_result",
          "data": {
            "text/plain": [
              "(224, 224, 3)"
            ]
          },
          "metadata": {
            "tags": []
          },
          "execution_count": 93
        }
      ]
    },
    {
      "cell_type": "code",
      "metadata": {
        "colab": {
          "base_uri": "https://localhost:8080/"
        },
        "id": "WYkvhebVItVy",
        "outputId": "df219f90-9695-4024-80b5-d06975435491"
      },
      "source": [
        "# ファイルパス\n",
        "\n",
        "def make_datapath_list(phase=\"train\"):\n",
        "\n",
        "    rootpath = \"/content/drive/MyDrive/python/deep_learning/PyTorch/img_data/\"\n",
        "    target_path = osp.join(rootpath+phase+'/**/*.jpg')\n",
        "    print(target_path)\n",
        "\n",
        "    path_list = []  # ここに格納する\n",
        "\n",
        "    # globを利用してサブディレクトリまでファイルパスを取得する\n",
        "    for path in glob.glob(target_path):\n",
        "        path_list.append(path)\n",
        "\n",
        "    return path_list\n",
        "\n",
        "\n",
        "# 実行\n",
        "train_list = make_datapath_list(phase=\"train\")\n",
        "val_list = make_datapath_list(phase=\"val\")\n",
        "\n",
        "\n",
        "train_list\n",
        "val_list"
      ],
      "execution_count": null,
      "outputs": [
        {
          "output_type": "stream",
          "text": [
            "/content/drive/MyDrive/python/deep_learning/PyTorch/img_data/train/**/*.jpg\n",
            "/content/drive/MyDrive/python/deep_learning/PyTorch/img_data/val/**/*.jpg\n"
          ],
          "name": "stdout"
        },
        {
          "output_type": "execute_result",
          "data": {
            "text/plain": [
              "['/content/drive/MyDrive/python/deep_learning/PyTorch/img_data/val/hati/000061_r.jpg',\n",
              " '/content/drive/MyDrive/python/deep_learning/PyTorch/img_data/val/hati/000055_r.jpg',\n",
              " '/content/drive/MyDrive/python/deep_learning/PyTorch/img_data/val/hati/000056_r.jpg',\n",
              " '/content/drive/MyDrive/python/deep_learning/PyTorch/img_data/val/hati/000071_r.jpg',\n",
              " '/content/drive/MyDrive/python/deep_learning/PyTorch/img_data/val/hati/000070_r.jpg',\n",
              " '/content/drive/MyDrive/python/deep_learning/PyTorch/img_data/val/hati/000063_r.jpg',\n",
              " '/content/drive/MyDrive/python/deep_learning/PyTorch/img_data/val/hati/000072_r.jpg',\n",
              " '/content/drive/MyDrive/python/deep_learning/PyTorch/img_data/val/hati/000051_r.jpg',\n",
              " '/content/drive/MyDrive/python/deep_learning/PyTorch/img_data/val/hati/000064_r.jpg',\n",
              " '/content/drive/MyDrive/python/deep_learning/PyTorch/img_data/val/hati/000067_r.jpg',\n",
              " '/content/drive/MyDrive/python/deep_learning/PyTorch/img_data/val/hati/000062_r.jpg',\n",
              " '/content/drive/MyDrive/python/deep_learning/PyTorch/img_data/val/hati/000060_r.jpg',\n",
              " '/content/drive/MyDrive/python/deep_learning/PyTorch/img_data/val/hati/000074_r.jpg',\n",
              " '/content/drive/MyDrive/python/deep_learning/PyTorch/img_data/val/hati/000065_r.jpg',\n",
              " '/content/drive/MyDrive/python/deep_learning/PyTorch/img_data/val/hati/000052_r.jpg',\n",
              " '/content/drive/MyDrive/python/deep_learning/PyTorch/img_data/val/hati/000054_r.jpg',\n",
              " '/content/drive/MyDrive/python/deep_learning/PyTorch/img_data/val/hati/000073_r.jpg',\n",
              " '/content/drive/MyDrive/python/deep_learning/PyTorch/img_data/val/hati/000053_r.jpg',\n",
              " '/content/drive/MyDrive/python/deep_learning/PyTorch/img_data/val/hati/000069_r.jpg',\n",
              " '/content/drive/MyDrive/python/deep_learning/PyTorch/img_data/val/hati/000059_r.jpg',\n",
              " '/content/drive/MyDrive/python/deep_learning/PyTorch/img_data/val/hati/000066_r.jpg',\n",
              " '/content/drive/MyDrive/python/deep_learning/PyTorch/img_data/val/hati/000068_r.jpg',\n",
              " '/content/drive/MyDrive/python/deep_learning/PyTorch/img_data/val/hati/000057_r.jpg',\n",
              " '/content/drive/MyDrive/python/deep_learning/PyTorch/img_data/val/hati/000058_r.jpg',\n",
              " '/content/drive/MyDrive/python/deep_learning/PyTorch/img_data/val/ants/000065_r.jpg',\n",
              " '/content/drive/MyDrive/python/deep_learning/PyTorch/img_data/val/ants/000063_r.jpg',\n",
              " '/content/drive/MyDrive/python/deep_learning/PyTorch/img_data/val/ants/000061_r.jpg',\n",
              " '/content/drive/MyDrive/python/deep_learning/PyTorch/img_data/val/ants/000064_r.jpg',\n",
              " '/content/drive/MyDrive/python/deep_learning/PyTorch/img_data/val/ants/000068_r.jpg',\n",
              " '/content/drive/MyDrive/python/deep_learning/PyTorch/img_data/val/ants/000058_r.jpg',\n",
              " '/content/drive/MyDrive/python/deep_learning/PyTorch/img_data/val/ants/000062_r.jpg',\n",
              " '/content/drive/MyDrive/python/deep_learning/PyTorch/img_data/val/ants/000057_r.jpg',\n",
              " '/content/drive/MyDrive/python/deep_learning/PyTorch/img_data/val/ants/000059_r.jpg',\n",
              " '/content/drive/MyDrive/python/deep_learning/PyTorch/img_data/val/ants/000055_r.jpg',\n",
              " '/content/drive/MyDrive/python/deep_learning/PyTorch/img_data/val/ants/000056_r.jpg',\n",
              " '/content/drive/MyDrive/python/deep_learning/PyTorch/img_data/val/ants/000053_r.jpg',\n",
              " '/content/drive/MyDrive/python/deep_learning/PyTorch/img_data/val/ants/000051_r.jpg',\n",
              " '/content/drive/MyDrive/python/deep_learning/PyTorch/img_data/val/ants/000074_r.jpg',\n",
              " '/content/drive/MyDrive/python/deep_learning/PyTorch/img_data/val/ants/000072_r.jpg',\n",
              " '/content/drive/MyDrive/python/deep_learning/PyTorch/img_data/val/ants/000054_r.jpg',\n",
              " '/content/drive/MyDrive/python/deep_learning/PyTorch/img_data/val/ants/000052_r.jpg',\n",
              " '/content/drive/MyDrive/python/deep_learning/PyTorch/img_data/val/ants/000070_r.jpg',\n",
              " '/content/drive/MyDrive/python/deep_learning/PyTorch/img_data/val/ants/000069_r.jpg',\n",
              " '/content/drive/MyDrive/python/deep_learning/PyTorch/img_data/val/ants/000071_r.jpg',\n",
              " '/content/drive/MyDrive/python/deep_learning/PyTorch/img_data/val/ants/000073_r.jpg',\n",
              " '/content/drive/MyDrive/python/deep_learning/PyTorch/img_data/val/ants/000067_r.jpg',\n",
              " '/content/drive/MyDrive/python/deep_learning/PyTorch/img_data/val/ants/000060_r.jpg',\n",
              " '/content/drive/MyDrive/python/deep_learning/PyTorch/img_data/val/ants/000066_r.jpg']"
            ]
          },
          "metadata": {
            "tags": []
          },
          "execution_count": 94
        }
      ]
    },
    {
      "cell_type": "markdown",
      "metadata": {
        "id": "C6bcGCyQcKoh"
      },
      "source": [
        "# DataSet作成"
      ]
    },
    {
      "cell_type": "code",
      "metadata": {
        "colab": {
          "base_uri": "https://localhost:8080/"
        },
        "id": "8BBr3uMLWTpd",
        "outputId": "ff9752d4-5895-4355-b982-13d3b3adf20d"
      },
      "source": [
        "class HymenopteraDataset(data.Dataset):\n",
        "    \"\"\"\n",
        "    アリとハチの画像のDatasetクラス。PyTorchのDatasetクラスを継承。\n",
        "\n",
        "    Attributes\n",
        "    ----------\n",
        "    file_list : リスト\n",
        "        画像のパスを格納したリスト\n",
        "    transform : object\n",
        "        前処理クラスのインスタンス\n",
        "    phase : 'train' or 'test'\n",
        "        学習か訓練かを設定する。\n",
        "    \"\"\"\n",
        "\n",
        "    def __init__(self, file_list, transform=None, phase='train'):\n",
        "        self.file_list = file_list  # ファイルパスのリスト\n",
        "        self.transform = transform  # 前処理クラスのインスタンス\n",
        "        self.phase = phase  # train or valの指定\n",
        "\n",
        "    def __len__(self):\n",
        "        '''画像の枚数を返す'''\n",
        "        return len(self.file_list)\n",
        "\n",
        "    def __getitem__(self, index):\n",
        "        '''\n",
        "        前処理をした画像のTensor形式のデータとラベルを取得\n",
        "        '''\n",
        "\n",
        "        # index番目の画像をロード\n",
        "        img_path = self.file_list[index]\n",
        "        img = Image.open(img_path).convert('RGB')  # [高さ][幅][色RGB]\n",
        "\n",
        "        # 画像の前処理を実施\n",
        "        img_transformed = self.transform(\n",
        "            img, self.phase)  # torch.Size([3, 224, 224])\n",
        "\n",
        "        # 画像のラベルをファイル名から抜き出す\n",
        "        if self.phase == \"train\":\n",
        "            label = img_path[67:71]\n",
        "        elif self.phase == \"val\":\n",
        "            label = img_path[65:69]\n",
        "\n",
        "        # ラベルを数値に変更する\n",
        "        if label == \"ants\":\n",
        "            label = 0\n",
        "        elif label == \"hati\":\n",
        "            label = 1\n",
        "\n",
        "        return img_transformed, label\n",
        "\n",
        "\n",
        "# 実行\n",
        "train_dataset = HymenopteraDataset(\n",
        "    file_list=train_list, transform=ImageTransform(size, mean, std), phase='train')\n",
        "\n",
        "val_dataset = HymenopteraDataset(\n",
        "    file_list=val_list, transform=ImageTransform(size, mean, std), phase='val')\n",
        "\n",
        "# 動作確認\n",
        "index = 0\n",
        "print(train_dataset.__getitem__(index)[0].size())\n",
        "print(train_dataset.__getitem__(index)[1])\n"
      ],
      "execution_count": null,
      "outputs": [
        {
          "output_type": "stream",
          "text": [
            "torch.Size([3, 224, 224])\n",
            "1\n"
          ],
          "name": "stdout"
        }
      ]
    },
    {
      "cell_type": "code",
      "metadata": {
        "colab": {
          "base_uri": "https://localhost:8080/"
        },
        "id": "exRGknKJsVAs",
        "outputId": "d5406111-7f1f-4a65-b6f4-05a4b94981f1"
      },
      "source": [
        "\n",
        "import torchvision.transforms as transforms\n",
        "from torch.utils.data import DataLoader\n",
        "\n",
        "affine = transforms.RandomAffine([-15, 15], scale=(0.8, 1.2))  # 回転とリサイズ\n",
        "flip = transforms.RandomHorizontalFlip(p=0.5)  # 左右反転\n",
        "normalize = transforms.Normalize((0.0, 0.0, 0.0), (1.0, 1.0, 1.0))  # 平均値を0、標準偏差を1に\n",
        "to_tensor = transforms.ToTensor()\n",
        "erase = transforms.RandomErasing(p=0.5)   # ← 左にコードを追記  \n",
        "# 画像の余白領域を消去。RandomErasing(p=0.5)⇒ランダムで50%の領域が消去させる or されない\n",
        "\n",
        "transform_train = transforms.Compose([affine, flip, to_tensor, normalize, erase])\n",
        "transform_test = transforms.Compose([to_tensor, normalize])\n",
        "\n",
        "\n",
        "train_dataset_1 = HymenopteraDataset(train_dataset, transform=transform_train, phase='train')\n",
        "\n",
        "val_dataset_1 = HymenopteraDataset(val_dataset, transform=transform_test, phase='val') \n",
        "\n",
        "# DataLoaderの設定\n",
        "batch_size = 32\n",
        "train_loader = DataLoader(train_dataset_1, batch_size=batch_size, shuffle=True)\n",
        "test_loader = DataLoader(val_dataset_1, batch_size=batch_size, shuffle=False)\n",
        "\n",
        "print(train_loader)"
      ],
      "execution_count": null,
      "outputs": [
        {
          "output_type": "stream",
          "text": [
            "<torch.utils.data.dataloader.DataLoader object at 0x7f2f1b9a0290>\n"
          ],
          "name": "stdout"
        }
      ]
    },
    {
      "cell_type": "markdown",
      "metadata": {
        "id": "sKqctP09cUy7"
      },
      "source": [
        "# DataLoader作成"
      ]
    },
    {
      "cell_type": "code",
      "metadata": {
        "colab": {
          "base_uri": "https://localhost:8080/"
        },
        "id": "gQ8QD8OOcCHC",
        "outputId": "3059aa40-f1f0-45ac-beb0-f020cb72a32a"
      },
      "source": [
        "# ミニバッチのサイズを指定\n",
        "batch_size = 32\n",
        "\n",
        "# DataLoaderを作成\n",
        "train_dataloader = torch.utils.data.DataLoader(\n",
        "    train_dataset, batch_size=batch_size, shuffle=True)\n",
        "\n",
        "val_dataloader = torch.utils.data.DataLoader(\n",
        "    val_dataset, batch_size=batch_size, shuffle=False)\n",
        "\n",
        "# 辞書型変数にまとめる\n",
        "dataloaders_dict = {\"train\": train_dataloader, \"val\": val_dataloader}\n",
        "\n",
        "# 動作確認\n",
        "batch_iterator = iter(dataloaders_dict[\"train\"])  # イテレータに変換\n",
        "inputs, labels = next(batch_iterator)  # 1番目の要素を取り出す\n",
        "print(inputs.size())\n",
        "print(labels)\n",
        "print(train_dataloader)"
      ],
      "execution_count": null,
      "outputs": [
        {
          "output_type": "stream",
          "text": [
            "torch.Size([32, 3, 224, 224])\n",
            "tensor([1, 0, 0, 1, 0, 0, 1, 1, 1, 0, 0, 1, 1, 0, 0, 1, 1, 0, 1, 0, 0, 0, 0, 0,\n",
            "        1, 0, 0, 1, 1, 0, 0, 0])\n",
            "<torch.utils.data.dataloader.DataLoader object at 0x7f2f7979ef50>\n"
          ],
          "name": "stdout"
        }
      ]
    },
    {
      "cell_type": "markdown",
      "metadata": {
        "id": "DZxfo6NaryjP"
      },
      "source": [
        "# Linear⇒in_features=〇〇〇〇値は画像モデルごとに変更する"
      ]
    },
    {
      "cell_type": "code",
      "metadata": {
        "colab": {
          "base_uri": "https://localhost:8080/"
        },
        "id": "Ir8JpomYl1Zq",
        "outputId": "7f34dcd8-5885-4383-d1ba-36c5d5f3f449"
      },
      "source": [
        "import torch.nn as nn\n",
        "import torch.nn.functional as F\n",
        "\n",
        "class Net(nn.Module):\n",
        "    def __init__(self):\n",
        "        super().__init__()\n",
        "        self.conv1 = nn.Conv2d(3, 8, 5)  # 畳み込み層:(入力チャンネル数, フィルタ数、フィルタサイズ)\n",
        "        self.pool = nn.MaxPool2d(2, 2)  # プーリング層:（領域のサイズ, ストライド）\n",
        "        self.conv2 = nn.Conv2d(8, 32, 5)\n",
        "        self.fc1 = nn.Linear(32*1*2809, 256)  # 全結合層\n",
        "        self.dropout = nn.Dropout(p=0.25)  # ドロップアウト:(p=ドロップアウト率)\n",
        "        self.fc2 = nn.Linear(256, 128)\n",
        "        self.dropout = nn.Dropout(p=0.5)  # ドロップアウト:(p=ドロップアウト率)\n",
        "        self.fc3 = nn.Linear(128, 64)\n",
        "        self.dropout = nn.Dropout(p=0.5)  # ドロップアウト:(p=ドロップアウト率)\n",
        "        self.fc4 = nn.Linear(64, 2)\n",
        "\n",
        "    def forward(self, x):\n",
        "        # ------- 以下にコードを書く -------\n",
        "        x = self.pool(F.relu(self.conv1(x)))\n",
        "        x = self.pool(F.relu(self.conv2(x)))\n",
        "        x = x.view(-1, 32*1*2809)\n",
        "        x = F.relu(self.fc1(x))\n",
        "        x = self.dropout(x)\n",
        "        x = self.fc2(x)\n",
        "        x = self.dropout(x)\n",
        "        x = self.fc3(x)\n",
        "        x = self.dropout(x)\n",
        "        x = self.fc4(x)\n",
        "        # ------- ここまで -------\n",
        "        return x\n",
        "\n",
        "net = Net()\n",
        "net.cuda()  # GPU対応\n",
        "print(net)"
      ],
      "execution_count": null,
      "outputs": [
        {
          "output_type": "stream",
          "text": [
            "Net(\n",
            "  (conv1): Conv2d(3, 8, kernel_size=(5, 5), stride=(1, 1))\n",
            "  (pool): MaxPool2d(kernel_size=2, stride=2, padding=0, dilation=1, ceil_mode=False)\n",
            "  (conv2): Conv2d(8, 32, kernel_size=(5, 5), stride=(1, 1))\n",
            "  (fc1): Linear(in_features=89888, out_features=256, bias=True)\n",
            "  (dropout): Dropout(p=0.5, inplace=False)\n",
            "  (fc2): Linear(in_features=256, out_features=128, bias=True)\n",
            "  (fc3): Linear(in_features=128, out_features=64, bias=True)\n",
            "  (fc4): Linear(in_features=64, out_features=2, bias=True)\n",
            ")\n"
          ],
          "name": "stdout"
        }
      ]
    },
    {
      "cell_type": "markdown",
      "metadata": {
        "id": "nktCmQCrodNS"
      },
      "source": [
        "size値で割り切れるようにする為、self.fc1 = nn.Linear(32×1×2809)に変更"
      ]
    },
    {
      "cell_type": "code",
      "metadata": {
        "colab": {
          "base_uri": "https://localhost:8080/"
        },
        "id": "4pqzdpkh0xoU",
        "outputId": "955d52b6-94e7-4fb4-c0d2-7f14f703f827"
      },
      "source": [
        "from torch import optim\n",
        "\n",
        "# 交差エントロピー誤差関数\n",
        "loss_fnc = nn.CrossEntropyLoss()\n",
        "\n",
        "# 最適化アルゴリズム\n",
        "optimizer = optim.Adam(net.parameters())\n",
        "\n",
        "# 損失のログ\n",
        "record_loss_train = []\n",
        "record_loss_test = []\n",
        "\n",
        "# 学習\n",
        "x_test, t_test = iter(val_dataloader).next()\n",
        "x_test, t_test = x_test.cuda(), t_test.cuda()\n",
        "for i in range(60):  # 20エポック学習\n",
        "    net.train()  # 訓練モード\n",
        "    loss_train = 0\n",
        "    for j, (x, t) in enumerate(train_dataloader):  # ミニバッチ（x, t）を取り出す\n",
        "        x, t = x.cuda(), t.cuda()  # GPU対応\n",
        "        y = net(x)\n",
        "        loss = loss_fnc(y, t)\n",
        "        loss_train += loss.item()\n",
        "        optimizer.zero_grad()\n",
        "        loss.backward()\n",
        "        optimizer.step()\n",
        "    loss_train /= j+1\n",
        "    record_loss_train.append(loss_train)\n",
        "\n",
        "    net.eval()  # 評価モード\n",
        "    y_test = net(x_test)\n",
        "    loss_test = loss_fnc(y_test, t_test).item()\n",
        "    record_loss_test.append(loss_test)\n",
        "\n",
        "    if i%1 == 0:\n",
        "        print(\"Epoch:\", i, \"Loss_Train:\", loss_train, \"Loss_Test:\", loss_test)"
      ],
      "execution_count": null,
      "outputs": [
        {
          "output_type": "stream",
          "text": [
            "Epoch: 0 Loss_Train: 0.2883770205080509 Loss_Test: 0.9054877758026123\n",
            "Epoch: 1 Loss_Train: 0.33265939354896545 Loss_Test: 0.8380740880966187\n",
            "Epoch: 2 Loss_Train: 0.3159290235489607 Loss_Test: 0.5755276083946228\n",
            "Epoch: 3 Loss_Train: 0.17908219434320927 Loss_Test: 0.795245349407196\n",
            "Epoch: 4 Loss_Train: 0.21287161111831665 Loss_Test: 0.963569164276123\n",
            "Epoch: 5 Loss_Train: 0.14652612525969744 Loss_Test: 1.0222163200378418\n",
            "Epoch: 6 Loss_Train: 0.1644293712452054 Loss_Test: 0.9771844744682312\n",
            "Epoch: 7 Loss_Train: 0.2292041201144457 Loss_Test: 0.8559160232543945\n",
            "Epoch: 8 Loss_Train: 0.37746739387512207 Loss_Test: 1.2351112365722656\n",
            "Epoch: 9 Loss_Train: 0.11288009583950043 Loss_Test: 2.27817964553833\n",
            "Epoch: 10 Loss_Train: 0.15841908752918243 Loss_Test: 3.2189106941223145\n",
            "Epoch: 11 Loss_Train: 0.188997570425272 Loss_Test: 3.6433467864990234\n",
            "Epoch: 12 Loss_Train: 0.11152632674202323 Loss_Test: 6.009763240814209\n",
            "Epoch: 13 Loss_Train: 0.21788809235295048 Loss_Test: 3.441446304321289\n",
            "Epoch: 14 Loss_Train: 0.1422616820782423 Loss_Test: 2.6562347412109375\n",
            "Epoch: 15 Loss_Train: 0.1416561510413885 Loss_Test: 2.333827495574951\n",
            "Epoch: 16 Loss_Train: 0.1698566919658333 Loss_Test: 1.6596124172210693\n",
            "Epoch: 17 Loss_Train: 0.7562871873378754 Loss_Test: 1.888265609741211\n",
            "Epoch: 18 Loss_Train: 0.1864816308952868 Loss_Test: 1.6087534427642822\n",
            "Epoch: 19 Loss_Train: 0.5184764266014099 Loss_Test: 1.4058828353881836\n",
            "Epoch: 20 Loss_Train: 0.1395189492031932 Loss_Test: 1.5268359184265137\n",
            "Epoch: 21 Loss_Train: 0.17957540415227413 Loss_Test: 1.6490488052368164\n",
            "Epoch: 22 Loss_Train: 0.20618622936308384 Loss_Test: 1.7653952836990356\n",
            "Epoch: 23 Loss_Train: 0.21436083503067493 Loss_Test: 1.9691108465194702\n",
            "Epoch: 24 Loss_Train: 0.2961606988683343 Loss_Test: 3.032947301864624\n",
            "Epoch: 25 Loss_Train: 0.08054984547197819 Loss_Test: 3.9427454471588135\n",
            "Epoch: 26 Loss_Train: 0.17697813274571672 Loss_Test: 3.250627279281616\n",
            "Epoch: 27 Loss_Train: 0.1277768351137638 Loss_Test: 2.9056711196899414\n",
            "Epoch: 28 Loss_Train: 0.10891491640359163 Loss_Test: 3.025153636932373\n",
            "Epoch: 29 Loss_Train: 0.15563253965228796 Loss_Test: 2.6309235095977783\n",
            "Epoch: 30 Loss_Train: 0.16452219989150763 Loss_Test: 3.1689810752868652\n",
            "Epoch: 31 Loss_Train: 0.08979691658169031 Loss_Test: 3.7014341354370117\n",
            "Epoch: 32 Loss_Train: 0.09806482121348381 Loss_Test: 4.149923801422119\n",
            "Epoch: 33 Loss_Train: 0.02562466193921864 Loss_Test: 4.494117259979248\n",
            "Epoch: 34 Loss_Train: 0.06141954381018877 Loss_Test: 4.694787502288818\n",
            "Epoch: 35 Loss_Train: 0.05574522323149722 Loss_Test: 4.398852348327637\n",
            "Epoch: 36 Loss_Train: 0.051386140286922455 Loss_Test: 4.627429008483887\n",
            "Epoch: 37 Loss_Train: 0.04500625460059382 Loss_Test: 4.787205219268799\n",
            "Epoch: 38 Loss_Train: 0.0653704875294352 Loss_Test: 4.793468475341797\n",
            "Epoch: 39 Loss_Train: 0.022884765174239874 Loss_Test: 4.785902500152588\n",
            "Epoch: 40 Loss_Train: 0.022306507293251343 Loss_Test: 4.788780689239502\n",
            "Epoch: 41 Loss_Train: 0.02922687493264675 Loss_Test: 5.303940773010254\n",
            "Epoch: 42 Loss_Train: 0.12225127999408869 Loss_Test: 4.526050567626953\n",
            "Epoch: 43 Loss_Train: 0.3469516793265939 Loss_Test: 2.94381046295166\n",
            "Epoch: 44 Loss_Train: 0.07088618888519704 Loss_Test: 2.9923417568206787\n",
            "Epoch: 45 Loss_Train: 0.2038813920225948 Loss_Test: 3.4101481437683105\n",
            "Epoch: 46 Loss_Train: 0.26930159889161587 Loss_Test: 2.8304288387298584\n",
            "Epoch: 47 Loss_Train: 0.132935905829072 Loss_Test: 3.369776964187622\n",
            "Epoch: 48 Loss_Train: 0.08383852477709297 Loss_Test: 4.57204532623291\n",
            "Epoch: 49 Loss_Train: 0.10193427884951234 Loss_Test: 4.866145133972168\n",
            "Epoch: 50 Loss_Train: 0.0773134483024478 Loss_Test: 4.963616371154785\n",
            "Epoch: 51 Loss_Train: 0.08814326580613852 Loss_Test: 4.99990177154541\n",
            "Epoch: 52 Loss_Train: 0.2855494390241802 Loss_Test: 4.395835876464844\n",
            "Epoch: 53 Loss_Train: 0.21191580593585968 Loss_Test: 3.613828420639038\n",
            "Epoch: 54 Loss_Train: 0.23815816640853882 Loss_Test: 2.931629180908203\n",
            "Epoch: 55 Loss_Train: 0.6038251565698829 Loss_Test: 3.5548603534698486\n",
            "Epoch: 56 Loss_Train: 1.0292797721922398 Loss_Test: 4.738280296325684\n",
            "Epoch: 57 Loss_Train: 1.7111238837242126 Loss_Test: 3.732165575027466\n",
            "Epoch: 58 Loss_Train: 0.5869333371520042 Loss_Test: 1.4230631589889526\n",
            "Epoch: 59 Loss_Train: 0.29778097569942474 Loss_Test: 1.1957722902297974\n"
          ],
          "name": "stdout"
        }
      ]
    },
    {
      "cell_type": "code",
      "metadata": {
        "colab": {
          "base_uri": "https://localhost:8080/",
          "height": 279
        },
        "id": "_t6T3HLwk5BQ",
        "outputId": "6a8eaf06-c83e-4527-ca1e-2b5e9e3b68de"
      },
      "source": [
        "import matplotlib.pyplot as plt\n",
        "\n",
        "plt.plot(range(len(record_loss_train)), record_loss_train, label=\"Train\")\n",
        "plt.plot(range(len(record_loss_test)), record_loss_test, label=\"Test\")\n",
        "plt.legend()\n",
        "\n",
        "plt.xlabel(\"Epochs\")\n",
        "plt.ylabel(\"Error\")\n",
        "plt.show()"
      ],
      "execution_count": null,
      "outputs": [
        {
          "output_type": "display_data",
          "data": {
            "image/png": "[encoded data removed]",
            "text/plain": [
              "<Figure size 432x288 with 1 Axes>"
            ]
          },
          "metadata": {
            "tags": [],
            "needs_background": "light"
          }
        }
      ]
    },
    {
      "cell_type": "code",
      "metadata": {
        "colab": {
          "base_uri": "https://localhost:8080/"
        },
        "id": "zVWWzfKIqCnn",
        "outputId": "81e62a4c-c718-431c-c544-e7d193118ba2"
      },
      "source": [
        "y_test.shape"
      ],
      "execution_count": null,
      "outputs": [
        {
          "output_type": "execute_result",
          "data": {
            "text/plain": [
              "torch.Size([32, 2])"
            ]
          },
          "metadata": {
            "tags": []
          },
          "execution_count": 110
        }
      ]
    },
    {
      "cell_type": "code",
      "metadata": {
        "colab": {
          "base_uri": "https://localhost:8080/"
        },
        "id": "CX8uEMCzk5EB",
        "outputId": "10f7bb93-68da-4669-fb84-4ca5e1ec0b30"
      },
      "source": [
        "correct = 0\n",
        "total = 0\n",
        "net.eval()  # 評価モード\n",
        "for i, (x, t) in enumerate(val_dataloader):\n",
        "    x, t = x.cuda(), t.cuda()  # GPU対応\n",
        "    y = net(x)\n",
        "    correct += (y.argmax(1) == t).sum().item()\n",
        "    total += len(x)\n",
        "print(\"正解率:\", str(correct/total*100) + \"%\")"
      ],
      "execution_count": null,
      "outputs": [
        {
          "output_type": "stream",
          "text": [
            "正解率: 70.83333333333334%\n"
          ],
          "name": "stdout"
        }
      ]
    },
    {
      "cell_type": "code",
      "metadata": {
        "colab": {
          "base_uri": "https://localhost:8080/"
        },
        "id": "_bFMs2btqaS4",
        "outputId": "d9fb6d21-e753-4ce4-9184-e8ac1b8c520c"
      },
      "source": [
        "# 学習モデル保存\n",
        "\n",
        "import torch\n",
        "\n",
        "# state_dict()の表示\n",
        "for key in net.state_dict():\n",
        "    print(key, \": \", net.state_dict()[key].size())\n",
        "print(net.state_dict()[\"conv1.weight\"][0])  # 　パラメータの一部を表示\n",
        "\n",
        "# 保存\n",
        "torch.save(net.state_dict(), \"model_cnn_ants_hati.pth\")  "
      ],
      "execution_count": null,
      "outputs": [
        {
          "output_type": "stream",
          "text": [
            "conv1.weight :  torch.Size([8, 3, 5, 5])\n",
            "conv1.bias :  torch.Size([8])\n",
            "conv2.weight :  torch.Size([32, 8, 5, 5])\n",
            "conv2.bias :  torch.Size([32])\n",
            "fc1.weight :  torch.Size([256, 89888])\n",
            "fc1.bias :  torch.Size([256])\n",
            "fc2.weight :  torch.Size([128, 256])\n",
            "fc2.bias :  torch.Size([128])\n",
            "fc3.weight :  torch.Size([64, 128])\n",
            "fc3.bias :  torch.Size([64])\n",
            "fc4.weight :  torch.Size([2, 64])\n",
            "fc4.bias :  torch.Size([2])\n",
            "tensor([[[-0.1253, -0.0743,  0.0513, -0.1158, -0.0138],\n",
            "         [-0.1123, -0.1559,  0.0264, -0.1487,  0.0218],\n",
            "         [-0.0258, -0.0986, -0.0562,  0.0517, -0.0896],\n",
            "         [-0.0437, -0.0756, -0.0464, -0.0278, -0.1475],\n",
            "         [-0.0635, -0.0404, -0.1215, -0.0144, -0.0673]],\n",
            "\n",
            "        [[-0.0183,  0.1095,  0.0193,  0.0063,  0.0450],\n",
            "         [ 0.0993,  0.0084,  0.0256,  0.1189, -0.0054],\n",
            "         [-0.1000,  0.0043,  0.1066, -0.0225,  0.0509],\n",
            "         [-0.0536,  0.0872,  0.0917,  0.0149,  0.0878],\n",
            "         [ 0.0623,  0.0493,  0.1064, -0.0273, -0.0646]],\n",
            "\n",
            "        [[-0.0430, -0.0863, -0.0762, -0.0753, -0.0665],\n",
            "         [-0.0083,  0.0935, -0.0130,  0.1140,  0.0344],\n",
            "         [-0.0999,  0.0457, -0.0035, -0.0621, -0.0262],\n",
            "         [ 0.0797,  0.0919,  0.0685,  0.0189, -0.0099],\n",
            "         [ 0.0287,  0.0865, -0.0346,  0.0627,  0.0631]]], device='cuda:0')\n"
          ],
          "name": "stdout"
        }
      ]
    },
    {
      "cell_type": "code",
      "metadata": {
        "id": "QmqPIOX8qa9G"
      },
      "source": [
        ""
      ],
      "execution_count": null,
      "outputs": []
    }
  ]
}
