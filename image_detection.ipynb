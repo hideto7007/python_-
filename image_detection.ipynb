{
  "nbformat": 4,
  "nbformat_minor": 0,
  "metadata": {
    "colab": {
      "provenance": [],
      "mount_file_id": "1NreS89_BaWqHj3YoWWZkUD6BuUDRIJk5",
      "authorship_tag": "ABX9TyNVk5PsCtpdAdENq3HXJypV",
      "include_colab_link": true
    },
    "kernelspec": {
      "name": "python3",
      "display_name": "Python 3"
    }
  },
  "cells": [
    {
      "cell_type": "markdown",
      "metadata": {
        "id": "view-in-github",
        "colab_type": "text"
      },
      "source": [
        "<a href=\"https://colab.research.google.com/github/hideto7007/python_image-classification/blob/main/image_detection.ipynb\" target=\"_parent\"><img src=\"https://colab.research.google.com/assets/colab-badge.svg\" alt=\"Open In Colab\"/></a>"
      ]
    },
    {
      "cell_type": "code",
      "metadata": {
        "id": "Kl-qlsLu4HFw"
      },
      "source": [
        "import glob\n",
        "import os.path as osp\n",
        "import random\n",
        "import numpy as np\n",
        "import json\n",
        "from PIL import Image\n",
        "from tqdm import tqdm\n",
        "import matplotlib.pyplot as plt\n",
        "%matplotlib inline\n",
        "\n",
        "import torch\n",
        "import torch.nn as nn\n",
        "import torch.optim as optim\n",
        "import torch.utils.data as data\n",
        "import torchvision\n",
        "from torchvision import models, transforms"
      ],
      "execution_count": 1,
      "outputs": []
    },
    {
      "cell_type": "code",
      "source": [
        "\n",
        "\n",
        "import os\n",
        "path = \"/content/drive/MyDrive/python/deep_learning/PyTorch/models/\"\n",
        "\n",
        "files = os.listdir(path)\n",
        "files"
      ],
      "metadata": {
        "colab": {
          "base_uri": "https://localhost:8080/"
        },
        "id": "zi-89HgDujkJ",
        "outputId": "fea60ec8-33ce-4300-e868-439878772c76"
      },
      "execution_count": 3,
      "outputs": [
        {
          "output_type": "execute_result",
          "data": {
            "text/plain": [
              "['vgg16_best_models.pth',\n",
              " 'resnet_best_models.pth',\n",
              " 'efficientNet_best_models.pth']"
            ]
          },
          "metadata": {},
          "execution_count": 3
        }
      ]
    },
    {
      "cell_type": "code",
      "metadata": {
        "id": "s3-AkEVaRd7N"
      },
      "source": [
        "# 乱シード設定\n",
        "torch.manual_seed(1234)\n",
        "np.random.seed(1234)\n",
        "random.seed(1234)"
      ],
      "execution_count": 4,
      "outputs": []
    },
    {
      "cell_type": "code",
      "metadata": {
        "id": "gwk0ryCsl98w"
      },
      "source": [
        "torch.backends.cudnn.deterministic = True\n",
        "torch.backends.cudnn.benckmark = False"
      ],
      "execution_count": 5,
      "outputs": []
    },
    {
      "cell_type": "code",
      "metadata": {
        "id": "phvTjO6c5A1n"
      },
      "source": [
        "# 入力画像の前処理をするクラス\n",
        "# 訓練時と推論時で処理が異なる\n",
        "\n",
        "\n",
        "class ImageTransform():\n",
        "    \"\"\"\n",
        "    画像の前処理クラス。訓練時、検証時で異なる動作をする。\n",
        "    画像のサイズをリサイズし、色を標準化する。\n",
        "    訓練時はRandomResizedCropとRandomHorizontalFlipでデータオーギュメンテーションする。\n",
        "\n",
        "\n",
        "    Attributes\n",
        "    ----------\n",
        "    resize : int\n",
        "        リサイズ先の画像の大きさ。\n",
        "    mean : (R, G, B)\n",
        "        各色チャネルの平均値。\n",
        "    std : (R, G, B)\n",
        "        各色チャネルの標準偏差。\n",
        "    \"\"\"\n",
        "\n",
        "    def __init__(self, resize, mean, std):\n",
        "        self.data_transform = {\n",
        "            'train': transforms.Compose([\n",
        "                transforms.RandomResizedCrop(\n",
        "                    resize, scale=(0.5, 1.0)),  # データオーギュメンテーション\n",
        "                transforms.RandomHorizontalFlip(),  # データオーギュメンテーション\n",
        "                transforms.ToTensor(),  # テンソルに変換\n",
        "                transforms.Normalize(mean, std)  # 標準化\n",
        "            ]),\n",
        "            'val': transforms.Compose([\n",
        "                transforms.Resize(resize),  # リサイズ\n",
        "                transforms.CenterCrop(resize),  # 画像中央をresize×resizeで切り取り\n",
        "                transforms.ToTensor(),  # テンソルに変換\n",
        "                transforms.Normalize(mean, std)  # 標準化\n",
        "            ])\n",
        "        }\n",
        "\n",
        "    def __call__(self, img, phase='train'):\n",
        "        \"\"\"\n",
        "        Parameters\n",
        "        ----------\n",
        "        phase : 'train' or 'val'\n",
        "            前処理のモードを指定。\n",
        "        \"\"\"\n",
        "        return self.data_transform[phase](img)"
      ],
      "execution_count": 6,
      "outputs": []
    },
    {
      "cell_type": "code",
      "metadata": {
        "colab": {
          "base_uri": "https://localhost:8080/",
          "height": 521
        },
        "id": "42q2-AzXn-AO",
        "outputId": "2a398cb9-1333-43d9-da63-2d05eae5fa00"
      },
      "source": [
        "# 訓練時の画像前処理の動作を確認\n",
        "# 実行するたびに処理結果の画像が変わる\n",
        "\n",
        "imgae_file_path = 'drive/MyDrive/python/deep_learning/PyTorch/img_data/train/ants/000001_r.jpg'\n",
        "img = Image.open(imgae_file_path)\n",
        "\n",
        "plt.imshow(img)\n",
        "plt.show()\n",
        "\n",
        "# GPU使う場合\n",
        "cuda = 1\n",
        "\n",
        "if cuda == 1:\n",
        "  size = 2242\n",
        "else:\n",
        "  size = 100\n",
        "\n",
        "\n",
        "mean = (0.485, 0.456, 0.406)\n",
        "std = (0.229, 0.224, 0.225)\n",
        "\n",
        "\n",
        "\n",
        "transform = ImageTransform(size, mean, std)\n",
        "img_transformed = transform(img, phase=\"train\")\n",
        "\n",
        "img_transformed = img_transformed.numpy().transpose((1, 2, 0))\n",
        "img_transformed = np.clip(img_transformed, 0, 1)\n",
        "plt.imshow(img_transformed)\n",
        "plt.show()"
      ],
      "execution_count": 47,
      "outputs": [
        {
          "output_type": "display_data",
          "data": {
            "text/plain": [
              "<Figure size 432x288 with 1 Axes>"
            ],
            "image/png": "[encoded data removed]"
          },
          "metadata": {
            "needs_background": "light"
          }
        },
        {
          "output_type": "display_data",
          "data": {
            "text/plain": [
              "<Figure size 432x288 with 1 Axes>"
            ],
            "image/png": "[encoded data removed]"
          },
          "metadata": {
            "needs_background": "light"
          }
        }
      ]
    },
    {
      "cell_type": "code",
      "metadata": {
        "colab": {
          "base_uri": "https://localhost:8080/"
        },
        "id": "fZjUkPSnrHIE",
        "outputId": "15be32df-9b5e-4a45-d71a-5e2fe36498c0"
      },
      "source": [
        "# アリとハチの画像へのファイルパスのリスト作成する\n",
        "\n",
        "def make_datapath_list(phase):\n",
        "    rootpath = \"drive/MyDrive/python/deep_learning/PyTorch/img_data/\"\n",
        "    target_path = osp.join(rootpath+phase+'/*/*.jpg')\n",
        "    \n",
        "    path_list = []\n",
        "    \n",
        "    for path in glob.glob(target_path):\n",
        "        path_list.append(path)\n",
        "        \n",
        "    return path_list\n",
        "\n",
        "train_list = make_datapath_list(phase=\"train\")\n",
        "val_list = make_datapath_list(phase=\"val\")\n",
        "\n",
        "len(train_list)"
      ],
      "execution_count": 48,
      "outputs": [
        {
          "output_type": "execute_result",
          "data": {
            "text/plain": [
              "100"
            ]
          },
          "metadata": {},
          "execution_count": 48
        }
      ]
    },
    {
      "cell_type": "code",
      "metadata": {
        "id": "t4S0qve8rHKx",
        "colab": {
          "base_uri": "https://localhost:8080/"
        },
        "outputId": "6dc0ddec-0240-4263-9800-0dd751fb9fb0"
      },
      "source": [
        "# アリとハチの画像のDatasetを作成する\n",
        "\n",
        "\n",
        "class HymenopteraDataset(data.Dataset):\n",
        "    \"\"\"\n",
        "    アリとハチの画像のDatasetクラス。PyTorchのDatasetクラスを継承。\n",
        "\n",
        "    Attributes\n",
        "    ----------\n",
        "    file_list : リスト\n",
        "        画像のパスを格納したリスト\n",
        "    transform : object\n",
        "        前処理クラスのインスタンス\n",
        "    phase : 'train' or 'test'\n",
        "        学習か訓練かを設定する。\n",
        "    \"\"\"\n",
        "\n",
        "    def __init__(self, file_list, transform=None, phase='train'):\n",
        "        self.file_list = file_list  # ファイルパスのリスト\n",
        "        self.transform = transform  # 前処理クラスのインスタンス\n",
        "        self.phase = phase  # train or valの指定\n",
        "\n",
        "    def __len__(self):\n",
        "        '''画像の枚数を返す'''\n",
        "        return len(self.file_list)\n",
        "\n",
        "    def __getitem__(self, index):\n",
        "        '''\n",
        "        前処理をした画像のTensor形式のデータとラベルを取得\n",
        "        '''\n",
        "\n",
        "        # index番目の画像をロード\n",
        "        img_path = self.file_list[index]\n",
        "        img = Image.open(img_path).convert('RGB') # [高さ][幅][色RGB]\n",
        "\n",
        "        # 画像の前処理を実施\n",
        "        img_transformed = self.transform(\n",
        "            img, self.phase)  # torch.Size([3, 224, 224])\n",
        "\n",
        "        # 画像のラベルをファイル名から抜き出す\n",
        "        if self.phase == \"train\":\n",
        "            label = img_path[58:62]\n",
        "        elif self.phase == \"val\":\n",
        "            label = img_path[56:60]\n",
        "\n",
        "        # ラベルを数値に変更する\n",
        "        if label == \"ants\":\n",
        "            label = 0\n",
        "        elif label == \"hati\":\n",
        "            label = 1\n",
        "\n",
        "        return img_transformed, label\n",
        "\n",
        "\n",
        "# 実行\n",
        "train_dataset = HymenopteraDataset(\n",
        "    file_list=train_list, transform=ImageTransform(size, mean, std), phase='train')\n",
        "\n",
        "val_dataset = HymenopteraDataset(\n",
        "    file_list=val_list, transform=ImageTransform(size, mean, std), phase='val')\n",
        "\n",
        "# 動作確認\n",
        "index = 0\n",
        "print(train_dataset.__getitem__(index)[0].size())\n",
        "print(train_dataset.__getitem__(index)[1])\n",
        "print(len(train_dataset))\n",
        "# print(val_dataset.__getitem__(index)[0].size())\n",
        "# print(val_dataset.__getitem__(index)[1])\n",
        "# train_dataset.__getitem__(index)[0].size()"
      ],
      "execution_count": 49,
      "outputs": [
        {
          "output_type": "stream",
          "name": "stdout",
          "text": [
            "torch.Size([3, 2242, 2242])\n",
            "1\n",
            "100\n"
          ]
        }
      ]
    },
    {
      "cell_type": "code",
      "metadata": {
        "id": "Qwjc0-BWrHND",
        "colab": {
          "base_uri": "https://localhost:8080/"
        },
        "outputId": "c6a9fae3-15cb-4c7e-87c2-f1937bb0b094"
      },
      "source": [
        "# ミニバッチのサイズを指定\n",
        "batch_size = 20\n",
        "\n",
        "# DataLoaderを作成\n",
        "train_dataloader = torch.utils.data.DataLoader(\n",
        "    train_dataset, batch_size=batch_size, shuffle=True)\n",
        "\n",
        "val_dataloader = torch.utils.data.DataLoader(\n",
        "    val_dataset, batch_size=batch_size, shuffle=False)\n",
        "\n",
        "# 辞書型変数にまとめる\n",
        "dataloaders_dict = {\"train\": train_dataloader, \"val\": val_dataloader}\n",
        "\n",
        "# 動作確認\n",
        "batch_iterator = iter(dataloaders_dict[\"train\"])  # イテレータに変換\n",
        "print(batch_iterator)\n",
        "inputs, labels = next(\n",
        "    batch_iterator)  # 1番目の要素を取り出す\n",
        "print(inputs.size())\n",
        "print(labels)"
      ],
      "execution_count": 50,
      "outputs": [
        {
          "output_type": "stream",
          "name": "stdout",
          "text": [
            "<torch.utils.data.dataloader._SingleProcessDataLoaderIter object at 0x7f451bdba760>\n",
            "torch.Size([20, 3, 2242, 2242])\n",
            "tensor([1, 0, 1, 0, 0, 0, 0, 0, 0, 1, 0, 1, 0, 0, 1, 0, 1, 1, 1, 1])\n"
          ]
        }
      ]
    },
    {
      "cell_type": "code",
      "source": [
        "# バッチサイズは全て一律の値でないと、モデル学習時に値が一致してなくエラーとなる\n",
        "# バッチサイズが一致してるか確認\n",
        "for i in train_dataloader:\n",
        "  print(i[1].size())"
      ],
      "metadata": {
        "colab": {
          "base_uri": "https://localhost:8080/"
        },
        "id": "j_Qrxo1l4Ets",
        "outputId": "e34394ed-f57f-4619-a9ad-bd36b96f2cb5"
      },
      "execution_count": 51,
      "outputs": [
        {
          "output_type": "stream",
          "name": "stdout",
          "text": [
            "torch.Size([20])\n",
            "torch.Size([20])\n",
            "torch.Size([20])\n",
            "torch.Size([20])\n",
            "torch.Size([20])\n"
          ]
        }
      ]
    },
    {
      "cell_type": "code",
      "source": [
        "# ファインチューニング判別フラグ\n",
        "fine_flag = 1\n",
        "\n",
        "# モデル選択\n",
        "model = \"efficientNet\"\n",
        "\n",
        "# 最後の出力層の出力ユニットをアリとハチの2つに付け替える\n",
        "out_feature = 2"
      ],
      "metadata": {
        "id": "F1flQ6Cg0oEl"
      },
      "execution_count": 102,
      "outputs": []
    },
    {
      "cell_type": "code",
      "metadata": {
        "id": "5pospCavrHPk",
        "colab": {
          "base_uri": "https://localhost:8080/"
        },
        "outputId": "d0455507-3b6b-4fda-e700-651f58f80ae3"
      },
      "source": [
        "use_pretrained = True  # 学習済みのパラメータを使用\n",
        "\n",
        "# 転移学習で学習させるパラメータを、変数params_to_updateに格納する\n",
        "params_to_update = []\n",
        "\n",
        "\n",
        "# ファインチューニングで学習させるパラメータ\n",
        "params_to_update_1 = []\n",
        "params_to_update_2 = []\n",
        "params_to_update_3 = []\n",
        "\n",
        "\n",
        "if model == \"vgg16\":\n",
        "  # VGG-16モデルのインスタンスを生成  \n",
        "  net = models.vgg16(pretrained=use_pretrained)\n",
        "  net.classifier[6] = nn.Linear(in_features=4096, out_features=out_feature)\n",
        "  # パラメータ名\n",
        "  if fine_flag:\n",
        "    params_to_update_1 = [\"features\"]\n",
        "    params_to_update_2 = [\"classifier.0.weight\", \"classifier.0.bias\", \"classifier.3.weight\", \"classifier.3.bias\"]\n",
        "    params_to_update_3 = [\"classifier.6.weight\", \"classifier.6.bias\"]\n",
        "  else:\n",
        "    update_param_names = [\"classifier.6.weight\", \"classifier.6.bias\"]\n",
        "  # モデル保存先\n",
        "  save_path = \"/content/drive/MyDrive/python/deep_learning/PyTorch/models/vgg16_best_models_2.pth\"\n",
        "  print(net.classifier)\n",
        "elif model == \"resnet\":\n",
        "  # ResNet50モデルのインスタンスを生成\n",
        "  net = models.resnet50(pretrained=use_pretrained)\n",
        "  net.fc = nn.Linear(net.fc.in_features, out_feature)\n",
        "  # パラメータ名\n",
        "  if fine_flag:\n",
        "    params_to_update_1 = [\"conv1.weight\", \"bn1.weight\", \"bn1.bias\"]\n",
        "    params_to_update_2 = [\"layer\"]\n",
        "    params_to_update_3 = [\"fc.weight\", \"fc.bias\"]\n",
        "  else:\n",
        "    update_param_names = [\"fc.weight\", \"fc.bias\"]\n",
        "  # モデル保存先\n",
        "  save_path = \"/content/drive/MyDrive/python/deep_learning/PyTorch/models/resnet_best_models.pth\"\n",
        "  print(net.fc)\n",
        "elif model == \"efficientNet\":\n",
        "  # EfficientNetモデルのインスタンスを生成\n",
        "  net = models.efficientnet_b7(pretrained=use_pretrained)\n",
        "  net.classifier[1] = nn.Linear(in_features=2560, out_features=out_feature, bias=True)\n",
        "  # パラメータ名\n",
        "  if fine_flag:\n",
        "    params_to_update_1 = [\"features\"]\n",
        "    params_to_update_2 = [\"classifier.1.weight\", \"classifier.1.bias\"]\n",
        "  else:\n",
        "    update_param_names = [\"classifier.1.weight\", \"classifier.1.bias\"]\n",
        "  # モデル保存先\n",
        "  save_path = \"/content/drive/MyDrive/python/deep_learning/PyTorch/models/efficientNet_best_models.pth\"\n",
        "  print(net.classifier[1])\n",
        "\n",
        "# 訓練モードに設定\n",
        "net.train()\n",
        "\n",
        "print('ネットワーク設定完了：学習済みの重みをロードし、訓練モードに設定しました')"
      ],
      "execution_count": 103,
      "outputs": [
        {
          "output_type": "stream",
          "name": "stderr",
          "text": [
            "/usr/local/lib/python3.8/dist-packages/torchvision/models/_utils.py:223: UserWarning: Arguments other than a weight enum or `None` for 'weights' are deprecated since 0.13 and may be removed in the future. The current behavior is equivalent to passing `weights=EfficientNet_B7_Weights.IMAGENET1K_V1`. You can also use `weights=EfficientNet_B7_Weights.DEFAULT` to get the most up-to-date weights.\n",
            "  warnings.warn(msg)\n"
          ]
        },
        {
          "output_type": "stream",
          "name": "stdout",
          "text": [
            "Linear(in_features=2560, out_features=2, bias=True)\n",
            "ネットワーク設定完了：学習済みの重みをロードし、訓練モードに設定しました\n"
          ]
        }
      ]
    },
    {
      "cell_type": "code",
      "metadata": {
        "id": "wYeO4I7xrHU8",
        "colab": {
          "base_uri": "https://localhost:8080/"
        },
        "outputId": "7f9ffbc3-b0d7-4ae1-e1cb-4ab15ee071d1"
      },
      "source": [
        "# 損失関数の設定\n",
        "criterion = nn.CrossEntropyLoss()\n",
        "\n",
        "fine_flag = 1\n",
        "\n",
        "# 学習させるパラメータ以外は勾配計算をなくし、変化しないように設定\n",
        "if fine_flag:\n",
        "  for name, param in net.named_parameters():\n",
        "    if params_to_update_1[0] in name and (model == \"vgg16\" or model == \"efficientNet\"):\n",
        "        param.requires_grad = True\n",
        "        params_to_update_1.append(param)\n",
        "        print(\"params_to_update_1に格納\", name)\n",
        "\n",
        "    elif name in params_to_update_1 and (model == \"resnet\"):\n",
        "        param.requires_grad = True\n",
        "        params_to_update_1.append(param)\n",
        "        print(\"params_to_update_1に格納\", name)\n",
        "\n",
        "    elif name in params_to_update_2 and (model == \"vgg16\" or model == \"efficientNet\"):\n",
        "        param.requires_grad = True\n",
        "        params_to_update_2.append(param)\n",
        "        print(\"params_to_update_2に格納\", name)\n",
        "\n",
        "    elif params_to_update_2[0] in name and (model == \"resnet\"):\n",
        "        param.requires_grad = True\n",
        "        params_to_update_2.append(param)\n",
        "        print(\"params_to_update_2に格納\", name)\n",
        "\n",
        "    elif name in params_to_update_3 and (model == \"vgg16\" or model == \"resnet\"):\n",
        "        param.requires_grad = True\n",
        "        params_to_update_3.append(param)\n",
        "        print(\"params_to_update_3に格納\", name)\n",
        "    else:\n",
        "        param.requires_grad = False\n",
        "\n",
        "else:\n",
        "  for name, param in net.named_parameters():\n",
        "    if name in update_param_names:\n",
        "        param.requires_grad = True\n",
        "        params_to_update.append(param)\n",
        "        print(name)\n",
        "    else:\n",
        "        param.requires_grad = False\n",
        "\n",
        "# params_to_updateの中身を確認\n",
        "# print(\"-----------\")\n",
        "# print(params_to_update)"
      ],
      "execution_count": 105,
      "outputs": [
        {
          "output_type": "stream",
          "name": "stdout",
          "text": [
            "params_to_update_1に格納 features.0.0.weight\n",
            "params_to_update_1に格納 features.0.1.weight\n",
            "params_to_update_1に格納 features.0.1.bias\n",
            "params_to_update_1に格納 features.1.0.block.0.0.weight\n",
            "params_to_update_1に格納 features.1.0.block.0.1.weight\n",
            "params_to_update_1に格納 features.1.0.block.0.1.bias\n",
            "params_to_update_1に格納 features.1.0.block.1.fc1.weight\n",
            "params_to_update_1に格納 features.1.0.block.1.fc1.bias\n",
            "params_to_update_1に格納 features.1.0.block.1.fc2.weight\n",
            "params_to_update_1に格納 features.1.0.block.1.fc2.bias\n",
            "params_to_update_1に格納 features.1.0.block.2.0.weight\n",
            "params_to_update_1に格納 features.1.0.block.2.1.weight\n",
            "params_to_update_1に格納 features.1.0.block.2.1.bias\n",
            "params_to_update_1に格納 features.1.1.block.0.0.weight\n",
            "params_to_update_1に格納 features.1.1.block.0.1.weight\n",
            "params_to_update_1に格納 features.1.1.block.0.1.bias\n",
            "params_to_update_1に格納 features.1.1.block.1.fc1.weight\n",
            "params_to_update_1に格納 features.1.1.block.1.fc1.bias\n",
            "params_to_update_1に格納 features.1.1.block.1.fc2.weight\n",
            "params_to_update_1に格納 features.1.1.block.1.fc2.bias\n",
            "params_to_update_1に格納 features.1.1.block.2.0.weight\n",
            "params_to_update_1に格納 features.1.1.block.2.1.weight\n",
            "params_to_update_1に格納 features.1.1.block.2.1.bias\n",
            "params_to_update_1に格納 features.1.2.block.0.0.weight\n",
            "params_to_update_1に格納 features.1.2.block.0.1.weight\n",
            "params_to_update_1に格納 features.1.2.block.0.1.bias\n",
            "params_to_update_1に格納 features.1.2.block.1.fc1.weight\n",
            "params_to_update_1に格納 features.1.2.block.1.fc1.bias\n",
            "params_to_update_1に格納 features.1.2.block.1.fc2.weight\n",
            "params_to_update_1に格納 features.1.2.block.1.fc2.bias\n",
            "params_to_update_1に格納 features.1.2.block.2.0.weight\n",
            "params_to_update_1に格納 features.1.2.block.2.1.weight\n",
            "params_to_update_1に格納 features.1.2.block.2.1.bias\n",
            "params_to_update_1に格納 features.1.3.block.0.0.weight\n",
            "params_to_update_1に格納 features.1.3.block.0.1.weight\n",
            "params_to_update_1に格納 features.1.3.block.0.1.bias\n",
            "params_to_update_1に格納 features.1.3.block.1.fc1.weight\n",
            "params_to_update_1に格納 features.1.3.block.1.fc1.bias\n",
            "params_to_update_1に格納 features.1.3.block.1.fc2.weight\n",
            "params_to_update_1に格納 features.1.3.block.1.fc2.bias\n",
            "params_to_update_1に格納 features.1.3.block.2.0.weight\n",
            "params_to_update_1に格納 features.1.3.block.2.1.weight\n",
            "params_to_update_1に格納 features.1.3.block.2.1.bias\n",
            "params_to_update_1に格納 features.2.0.block.0.0.weight\n",
            "params_to_update_1に格納 features.2.0.block.0.1.weight\n",
            "params_to_update_1に格納 features.2.0.block.0.1.bias\n",
            "params_to_update_1に格納 features.2.0.block.1.0.weight\n",
            "params_to_update_1に格納 features.2.0.block.1.1.weight\n",
            "params_to_update_1に格納 features.2.0.block.1.1.bias\n",
            "params_to_update_1に格納 features.2.0.block.2.fc1.weight\n",
            "params_to_update_1に格納 features.2.0.block.2.fc1.bias\n",
            "params_to_update_1に格納 features.2.0.block.2.fc2.weight\n",
            "params_to_update_1に格納 features.2.0.block.2.fc2.bias\n",
            "params_to_update_1に格納 features.2.0.block.3.0.weight\n",
            "params_to_update_1に格納 features.2.0.block.3.1.weight\n",
            "params_to_update_1に格納 features.2.0.block.3.1.bias\n",
            "params_to_update_1に格納 features.2.1.block.0.0.weight\n",
            "params_to_update_1に格納 features.2.1.block.0.1.weight\n",
            "params_to_update_1に格納 features.2.1.block.0.1.bias\n",
            "params_to_update_1に格納 features.2.1.block.1.0.weight\n",
            "params_to_update_1に格納 features.2.1.block.1.1.weight\n",
            "params_to_update_1に格納 features.2.1.block.1.1.bias\n",
            "params_to_update_1に格納 features.2.1.block.2.fc1.weight\n",
            "params_to_update_1に格納 features.2.1.block.2.fc1.bias\n",
            "params_to_update_1に格納 features.2.1.block.2.fc2.weight\n",
            "params_to_update_1に格納 features.2.1.block.2.fc2.bias\n",
            "params_to_update_1に格納 features.2.1.block.3.0.weight\n",
            "params_to_update_1に格納 features.2.1.block.3.1.weight\n",
            "params_to_update_1に格納 features.2.1.block.3.1.bias\n",
            "params_to_update_1に格納 features.2.2.block.0.0.weight\n",
            "params_to_update_1に格納 features.2.2.block.0.1.weight\n",
            "params_to_update_1に格納 features.2.2.block.0.1.bias\n",
            "params_to_update_1に格納 features.2.2.block.1.0.weight\n",
            "params_to_update_1に格納 features.2.2.block.1.1.weight\n",
            "params_to_update_1に格納 features.2.2.block.1.1.bias\n",
            "params_to_update_1に格納 features.2.2.block.2.fc1.weight\n",
            "params_to_update_1に格納 features.2.2.block.2.fc1.bias\n",
            "params_to_update_1に格納 features.2.2.block.2.fc2.weight\n",
            "params_to_update_1に格納 features.2.2.block.2.fc2.bias\n",
            "params_to_update_1に格納 features.2.2.block.3.0.weight\n",
            "params_to_update_1に格納 features.2.2.block.3.1.weight\n",
            "params_to_update_1に格納 features.2.2.block.3.1.bias\n",
            "params_to_update_1に格納 features.2.3.block.0.0.weight\n",
            "params_to_update_1に格納 features.2.3.block.0.1.weight\n",
            "params_to_update_1に格納 features.2.3.block.0.1.bias\n",
            "params_to_update_1に格納 features.2.3.block.1.0.weight\n",
            "params_to_update_1に格納 features.2.3.block.1.1.weight\n",
            "params_to_update_1に格納 features.2.3.block.1.1.bias\n",
            "params_to_update_1に格納 features.2.3.block.2.fc1.weight\n",
            "params_to_update_1に格納 features.2.3.block.2.fc1.bias\n",
            "params_to_update_1に格納 features.2.3.block.2.fc2.weight\n",
            "params_to_update_1に格納 features.2.3.block.2.fc2.bias\n",
            "params_to_update_1に格納 features.2.3.block.3.0.weight\n",
            "params_to_update_1に格納 features.2.3.block.3.1.weight\n",
            "params_to_update_1に格納 features.2.3.block.3.1.bias\n",
            "params_to_update_1に格納 features.2.4.block.0.0.weight\n",
            "params_to_update_1に格納 features.2.4.block.0.1.weight\n",
            "params_to_update_1に格納 features.2.4.block.0.1.bias\n",
            "params_to_update_1に格納 features.2.4.block.1.0.weight\n",
            "params_to_update_1に格納 features.2.4.block.1.1.weight\n",
            "params_to_update_1に格納 features.2.4.block.1.1.bias\n",
            "params_to_update_1に格納 features.2.4.block.2.fc1.weight\n",
            "params_to_update_1に格納 features.2.4.block.2.fc1.bias\n",
            "params_to_update_1に格納 features.2.4.block.2.fc2.weight\n",
            "params_to_update_1に格納 features.2.4.block.2.fc2.bias\n",
            "params_to_update_1に格納 features.2.4.block.3.0.weight\n",
            "params_to_update_1に格納 features.2.4.block.3.1.weight\n",
            "params_to_update_1に格納 features.2.4.block.3.1.bias\n",
            "params_to_update_1に格納 features.2.5.block.0.0.weight\n",
            "params_to_update_1に格納 features.2.5.block.0.1.weight\n",
            "params_to_update_1に格納 features.2.5.block.0.1.bias\n",
            "params_to_update_1に格納 features.2.5.block.1.0.weight\n",
            "params_to_update_1に格納 features.2.5.block.1.1.weight\n",
            "params_to_update_1に格納 features.2.5.block.1.1.bias\n",
            "params_to_update_1に格納 features.2.5.block.2.fc1.weight\n",
            "params_to_update_1に格納 features.2.5.block.2.fc1.bias\n",
            "params_to_update_1に格納 features.2.5.block.2.fc2.weight\n",
            "params_to_update_1に格納 features.2.5.block.2.fc2.bias\n",
            "params_to_update_1に格納 features.2.5.block.3.0.weight\n",
            "params_to_update_1に格納 features.2.5.block.3.1.weight\n",
            "params_to_update_1に格納 features.2.5.block.3.1.bias\n",
            "params_to_update_1に格納 features.2.6.block.0.0.weight\n",
            "params_to_update_1に格納 features.2.6.block.0.1.weight\n",
            "params_to_update_1に格納 features.2.6.block.0.1.bias\n",
            "params_to_update_1に格納 features.2.6.block.1.0.weight\n",
            "params_to_update_1に格納 features.2.6.block.1.1.weight\n",
            "params_to_update_1に格納 features.2.6.block.1.1.bias\n",
            "params_to_update_1に格納 features.2.6.block.2.fc1.weight\n",
            "params_to_update_1に格納 features.2.6.block.2.fc1.bias\n",
            "params_to_update_1に格納 features.2.6.block.2.fc2.weight\n",
            "params_to_update_1に格納 features.2.6.block.2.fc2.bias\n",
            "params_to_update_1に格納 features.2.6.block.3.0.weight\n",
            "params_to_update_1に格納 features.2.6.block.3.1.weight\n",
            "params_to_update_1に格納 features.2.6.block.3.1.bias\n",
            "params_to_update_1に格納 features.3.0.block.0.0.weight\n",
            "params_to_update_1に格納 features.3.0.block.0.1.weight\n",
            "params_to_update_1に格納 features.3.0.block.0.1.bias\n",
            "params_to_update_1に格納 features.3.0.block.1.0.weight\n",
            "params_to_update_1に格納 features.3.0.block.1.1.weight\n",
            "params_to_update_1に格納 features.3.0.block.1.1.bias\n",
            "params_to_update_1に格納 features.3.0.block.2.fc1.weight\n",
            "params_to_update_1に格納 features.3.0.block.2.fc1.bias\n",
            "params_to_update_1に格納 features.3.0.block.2.fc2.weight\n",
            "params_to_update_1に格納 features.3.0.block.2.fc2.bias\n",
            "params_to_update_1に格納 features.3.0.block.3.0.weight\n",
            "params_to_update_1に格納 features.3.0.block.3.1.weight\n",
            "params_to_update_1に格納 features.3.0.block.3.1.bias\n",
            "params_to_update_1に格納 features.3.1.block.0.0.weight\n",
            "params_to_update_1に格納 features.3.1.block.0.1.weight\n",
            "params_to_update_1に格納 features.3.1.block.0.1.bias\n",
            "params_to_update_1に格納 features.3.1.block.1.0.weight\n",
            "params_to_update_1に格納 features.3.1.block.1.1.weight\n",
            "params_to_update_1に格納 features.3.1.block.1.1.bias\n",
            "params_to_update_1に格納 features.3.1.block.2.fc1.weight\n",
            "params_to_update_1に格納 features.3.1.block.2.fc1.bias\n",
            "params_to_update_1に格納 features.3.1.block.2.fc2.weight\n",
            "params_to_update_1に格納 features.3.1.block.2.fc2.bias\n",
            "params_to_update_1に格納 features.3.1.block.3.0.weight\n",
            "params_to_update_1に格納 features.3.1.block.3.1.weight\n",
            "params_to_update_1に格納 features.3.1.block.3.1.bias\n",
            "params_to_update_1に格納 features.3.2.block.0.0.weight\n",
            "params_to_update_1に格納 features.3.2.block.0.1.weight\n",
            "params_to_update_1に格納 features.3.2.block.0.1.bias\n",
            "params_to_update_1に格納 features.3.2.block.1.0.weight\n",
            "params_to_update_1に格納 features.3.2.block.1.1.weight\n",
            "params_to_update_1に格納 features.3.2.block.1.1.bias\n",
            "params_to_update_1に格納 features.3.2.block.2.fc1.weight\n",
            "params_to_update_1に格納 features.3.2.block.2.fc1.bias\n",
            "params_to_update_1に格納 features.3.2.block.2.fc2.weight\n",
            "params_to_update_1に格納 features.3.2.block.2.fc2.bias\n",
            "params_to_update_1に格納 features.3.2.block.3.0.weight\n",
            "params_to_update_1に格納 features.3.2.block.3.1.weight\n",
            "params_to_update_1に格納 features.3.2.block.3.1.bias\n",
            "params_to_update_1に格納 features.3.3.block.0.0.weight\n",
            "params_to_update_1に格納 features.3.3.block.0.1.weight\n",
            "params_to_update_1に格納 features.3.3.block.0.1.bias\n",
            "params_to_update_1に格納 features.3.3.block.1.0.weight\n",
            "params_to_update_1に格納 features.3.3.block.1.1.weight\n",
            "params_to_update_1に格納 features.3.3.block.1.1.bias\n",
            "params_to_update_1に格納 features.3.3.block.2.fc1.weight\n",
            "params_to_update_1に格納 features.3.3.block.2.fc1.bias\n",
            "params_to_update_1に格納 features.3.3.block.2.fc2.weight\n",
            "params_to_update_1に格納 features.3.3.block.2.fc2.bias\n",
            "params_to_update_1に格納 features.3.3.block.3.0.weight\n",
            "params_to_update_1に格納 features.3.3.block.3.1.weight\n",
            "params_to_update_1に格納 features.3.3.block.3.1.bias\n",
            "params_to_update_1に格納 features.3.4.block.0.0.weight\n",
            "params_to_update_1に格納 features.3.4.block.0.1.weight\n",
            "params_to_update_1に格納 features.3.4.block.0.1.bias\n",
            "params_to_update_1に格納 features.3.4.block.1.0.weight\n",
            "params_to_update_1に格納 features.3.4.block.1.1.weight\n",
            "params_to_update_1に格納 features.3.4.block.1.1.bias\n",
            "params_to_update_1に格納 features.3.4.block.2.fc1.weight\n",
            "params_to_update_1に格納 features.3.4.block.2.fc1.bias\n",
            "params_to_update_1に格納 features.3.4.block.2.fc2.weight\n",
            "params_to_update_1に格納 features.3.4.block.2.fc2.bias\n",
            "params_to_update_1に格納 features.3.4.block.3.0.weight\n",
            "params_to_update_1に格納 features.3.4.block.3.1.weight\n",
            "params_to_update_1に格納 features.3.4.block.3.1.bias\n",
            "params_to_update_1に格納 features.3.5.block.0.0.weight\n",
            "params_to_update_1に格納 features.3.5.block.0.1.weight\n",
            "params_to_update_1に格納 features.3.5.block.0.1.bias\n",
            "params_to_update_1に格納 features.3.5.block.1.0.weight\n",
            "params_to_update_1に格納 features.3.5.block.1.1.weight\n",
            "params_to_update_1に格納 features.3.5.block.1.1.bias\n",
            "params_to_update_1に格納 features.3.5.block.2.fc1.weight\n",
            "params_to_update_1に格納 features.3.5.block.2.fc1.bias\n",
            "params_to_update_1に格納 features.3.5.block.2.fc2.weight\n",
            "params_to_update_1に格納 features.3.5.block.2.fc2.bias\n",
            "params_to_update_1に格納 features.3.5.block.3.0.weight\n",
            "params_to_update_1に格納 features.3.5.block.3.1.weight\n",
            "params_to_update_1に格納 features.3.5.block.3.1.bias\n",
            "params_to_update_1に格納 features.3.6.block.0.0.weight\n",
            "params_to_update_1に格納 features.3.6.block.0.1.weight\n",
            "params_to_update_1に格納 features.3.6.block.0.1.bias\n",
            "params_to_update_1に格納 features.3.6.block.1.0.weight\n",
            "params_to_update_1に格納 features.3.6.block.1.1.weight\n",
            "params_to_update_1に格納 features.3.6.block.1.1.bias\n",
            "params_to_update_1に格納 features.3.6.block.2.fc1.weight\n",
            "params_to_update_1に格納 features.3.6.block.2.fc1.bias\n",
            "params_to_update_1に格納 features.3.6.block.2.fc2.weight\n",
            "params_to_update_1に格納 features.3.6.block.2.fc2.bias\n",
            "params_to_update_1に格納 features.3.6.block.3.0.weight\n",
            "params_to_update_1に格納 features.3.6.block.3.1.weight\n",
            "params_to_update_1に格納 features.3.6.block.3.1.bias\n",
            "params_to_update_1に格納 features.4.0.block.0.0.weight\n",
            "params_to_update_1に格納 features.4.0.block.0.1.weight\n",
            "params_to_update_1に格納 features.4.0.block.0.1.bias\n",
            "params_to_update_1に格納 features.4.0.block.1.0.weight\n",
            "params_to_update_1に格納 features.4.0.block.1.1.weight\n",
            "params_to_update_1に格納 features.4.0.block.1.1.bias\n",
            "params_to_update_1に格納 features.4.0.block.2.fc1.weight\n",
            "params_to_update_1に格納 features.4.0.block.2.fc1.bias\n",
            "params_to_update_1に格納 features.4.0.block.2.fc2.weight\n",
            "params_to_update_1に格納 features.4.0.block.2.fc2.bias\n",
            "params_to_update_1に格納 features.4.0.block.3.0.weight\n",
            "params_to_update_1に格納 features.4.0.block.3.1.weight\n",
            "params_to_update_1に格納 features.4.0.block.3.1.bias\n",
            "params_to_update_1に格納 features.4.1.block.0.0.weight\n",
            "params_to_update_1に格納 features.4.1.block.0.1.weight\n",
            "params_to_update_1に格納 features.4.1.block.0.1.bias\n",
            "params_to_update_1に格納 features.4.1.block.1.0.weight\n",
            "params_to_update_1に格納 features.4.1.block.1.1.weight\n",
            "params_to_update_1に格納 features.4.1.block.1.1.bias\n",
            "params_to_update_1に格納 features.4.1.block.2.fc1.weight\n",
            "params_to_update_1に格納 features.4.1.block.2.fc1.bias\n",
            "params_to_update_1に格納 features.4.1.block.2.fc2.weight\n",
            "params_to_update_1に格納 features.4.1.block.2.fc2.bias\n",
            "params_to_update_1に格納 features.4.1.block.3.0.weight\n",
            "params_to_update_1に格納 features.4.1.block.3.1.weight\n",
            "params_to_update_1に格納 features.4.1.block.3.1.bias\n",
            "params_to_update_1に格納 features.4.2.block.0.0.weight\n",
            "params_to_update_1に格納 features.4.2.block.0.1.weight\n",
            "params_to_update_1に格納 features.4.2.block.0.1.bias\n",
            "params_to_update_1に格納 features.4.2.block.1.0.weight\n",
            "params_to_update_1に格納 features.4.2.block.1.1.weight\n",
            "params_to_update_1に格納 features.4.2.block.1.1.bias\n",
            "params_to_update_1に格納 features.4.2.block.2.fc1.weight\n",
            "params_to_update_1に格納 features.4.2.block.2.fc1.bias\n",
            "params_to_update_1に格納 features.4.2.block.2.fc2.weight\n",
            "params_to_update_1に格納 features.4.2.block.2.fc2.bias\n",
            "params_to_update_1に格納 features.4.2.block.3.0.weight\n",
            "params_to_update_1に格納 features.4.2.block.3.1.weight\n",
            "params_to_update_1に格納 features.4.2.block.3.1.bias\n",
            "params_to_update_1に格納 features.4.3.block.0.0.weight\n",
            "params_to_update_1に格納 features.4.3.block.0.1.weight\n",
            "params_to_update_1に格納 features.4.3.block.0.1.bias\n",
            "params_to_update_1に格納 features.4.3.block.1.0.weight\n",
            "params_to_update_1に格納 features.4.3.block.1.1.weight\n",
            "params_to_update_1に格納 features.4.3.block.1.1.bias\n",
            "params_to_update_1に格納 features.4.3.block.2.fc1.weight\n",
            "params_to_update_1に格納 features.4.3.block.2.fc1.bias\n",
            "params_to_update_1に格納 features.4.3.block.2.fc2.weight\n",
            "params_to_update_1に格納 features.4.3.block.2.fc2.bias\n",
            "params_to_update_1に格納 features.4.3.block.3.0.weight\n",
            "params_to_update_1に格納 features.4.3.block.3.1.weight\n",
            "params_to_update_1に格納 features.4.3.block.3.1.bias\n",
            "params_to_update_1に格納 features.4.4.block.0.0.weight\n",
            "params_to_update_1に格納 features.4.4.block.0.1.weight\n",
            "params_to_update_1に格納 features.4.4.block.0.1.bias\n",
            "params_to_update_1に格納 features.4.4.block.1.0.weight\n",
            "params_to_update_1に格納 features.4.4.block.1.1.weight\n",
            "params_to_update_1に格納 features.4.4.block.1.1.bias\n",
            "params_to_update_1に格納 features.4.4.block.2.fc1.weight\n",
            "params_to_update_1に格納 features.4.4.block.2.fc1.bias\n",
            "params_to_update_1に格納 features.4.4.block.2.fc2.weight\n",
            "params_to_update_1に格納 features.4.4.block.2.fc2.bias\n",
            "params_to_update_1に格納 features.4.4.block.3.0.weight\n",
            "params_to_update_1に格納 features.4.4.block.3.1.weight\n",
            "params_to_update_1に格納 features.4.4.block.3.1.bias\n",
            "params_to_update_1に格納 features.4.5.block.0.0.weight\n",
            "params_to_update_1に格納 features.4.5.block.0.1.weight\n",
            "params_to_update_1に格納 features.4.5.block.0.1.bias\n",
            "params_to_update_1に格納 features.4.5.block.1.0.weight\n",
            "params_to_update_1に格納 features.4.5.block.1.1.weight\n",
            "params_to_update_1に格納 features.4.5.block.1.1.bias\n",
            "params_to_update_1に格納 features.4.5.block.2.fc1.weight\n",
            "params_to_update_1に格納 features.4.5.block.2.fc1.bias\n",
            "params_to_update_1に格納 features.4.5.block.2.fc2.weight\n",
            "params_to_update_1に格納 features.4.5.block.2.fc2.bias\n",
            "params_to_update_1に格納 features.4.5.block.3.0.weight\n",
            "params_to_update_1に格納 features.4.5.block.3.1.weight\n",
            "params_to_update_1に格納 features.4.5.block.3.1.bias\n",
            "params_to_update_1に格納 features.4.6.block.0.0.weight\n",
            "params_to_update_1に格納 features.4.6.block.0.1.weight\n",
            "params_to_update_1に格納 features.4.6.block.0.1.bias\n",
            "params_to_update_1に格納 features.4.6.block.1.0.weight\n",
            "params_to_update_1に格納 features.4.6.block.1.1.weight\n",
            "params_to_update_1に格納 features.4.6.block.1.1.bias\n",
            "params_to_update_1に格納 features.4.6.block.2.fc1.weight\n",
            "params_to_update_1に格納 features.4.6.block.2.fc1.bias\n",
            "params_to_update_1に格納 features.4.6.block.2.fc2.weight\n",
            "params_to_update_1に格納 features.4.6.block.2.fc2.bias\n",
            "params_to_update_1に格納 features.4.6.block.3.0.weight\n",
            "params_to_update_1に格納 features.4.6.block.3.1.weight\n",
            "params_to_update_1に格納 features.4.6.block.3.1.bias\n",
            "params_to_update_1に格納 features.4.7.block.0.0.weight\n",
            "params_to_update_1に格納 features.4.7.block.0.1.weight\n",
            "params_to_update_1に格納 features.4.7.block.0.1.bias\n",
            "params_to_update_1に格納 features.4.7.block.1.0.weight\n",
            "params_to_update_1に格納 features.4.7.block.1.1.weight\n",
            "params_to_update_1に格納 features.4.7.block.1.1.bias\n",
            "params_to_update_1に格納 features.4.7.block.2.fc1.weight\n",
            "params_to_update_1に格納 features.4.7.block.2.fc1.bias\n",
            "params_to_update_1に格納 features.4.7.block.2.fc2.weight\n",
            "params_to_update_1に格納 features.4.7.block.2.fc2.bias\n",
            "params_to_update_1に格納 features.4.7.block.3.0.weight\n",
            "params_to_update_1に格納 features.4.7.block.3.1.weight\n",
            "params_to_update_1に格納 features.4.7.block.3.1.bias\n",
            "params_to_update_1に格納 features.4.8.block.0.0.weight\n",
            "params_to_update_1に格納 features.4.8.block.0.1.weight\n",
            "params_to_update_1に格納 features.4.8.block.0.1.bias\n",
            "params_to_update_1に格納 features.4.8.block.1.0.weight\n",
            "params_to_update_1に格納 features.4.8.block.1.1.weight\n",
            "params_to_update_1に格納 features.4.8.block.1.1.bias\n",
            "params_to_update_1に格納 features.4.8.block.2.fc1.weight\n",
            "params_to_update_1に格納 features.4.8.block.2.fc1.bias\n",
            "params_to_update_1に格納 features.4.8.block.2.fc2.weight\n",
            "params_to_update_1に格納 features.4.8.block.2.fc2.bias\n",
            "params_to_update_1に格納 features.4.8.block.3.0.weight\n",
            "params_to_update_1に格納 features.4.8.block.3.1.weight\n",
            "params_to_update_1に格納 features.4.8.block.3.1.bias\n",
            "params_to_update_1に格納 features.4.9.block.0.0.weight\n",
            "params_to_update_1に格納 features.4.9.block.0.1.weight\n",
            "params_to_update_1に格納 features.4.9.block.0.1.bias\n",
            "params_to_update_1に格納 features.4.9.block.1.0.weight\n",
            "params_to_update_1に格納 features.4.9.block.1.1.weight\n",
            "params_to_update_1に格納 features.4.9.block.1.1.bias\n",
            "params_to_update_1に格納 features.4.9.block.2.fc1.weight\n",
            "params_to_update_1に格納 features.4.9.block.2.fc1.bias\n",
            "params_to_update_1に格納 features.4.9.block.2.fc2.weight\n",
            "params_to_update_1に格納 features.4.9.block.2.fc2.bias\n",
            "params_to_update_1に格納 features.4.9.block.3.0.weight\n",
            "params_to_update_1に格納 features.4.9.block.3.1.weight\n",
            "params_to_update_1に格納 features.4.9.block.3.1.bias\n",
            "params_to_update_1に格納 features.5.0.block.0.0.weight\n",
            "params_to_update_1に格納 features.5.0.block.0.1.weight\n",
            "params_to_update_1に格納 features.5.0.block.0.1.bias\n",
            "params_to_update_1に格納 features.5.0.block.1.0.weight\n",
            "params_to_update_1に格納 features.5.0.block.1.1.weight\n",
            "params_to_update_1に格納 features.5.0.block.1.1.bias\n",
            "params_to_update_1に格納 features.5.0.block.2.fc1.weight\n",
            "params_to_update_1に格納 features.5.0.block.2.fc1.bias\n",
            "params_to_update_1に格納 features.5.0.block.2.fc2.weight\n",
            "params_to_update_1に格納 features.5.0.block.2.fc2.bias\n",
            "params_to_update_1に格納 features.5.0.block.3.0.weight\n",
            "params_to_update_1に格納 features.5.0.block.3.1.weight\n",
            "params_to_update_1に格納 features.5.0.block.3.1.bias\n",
            "params_to_update_1に格納 features.5.1.block.0.0.weight\n",
            "params_to_update_1に格納 features.5.1.block.0.1.weight\n",
            "params_to_update_1に格納 features.5.1.block.0.1.bias\n",
            "params_to_update_1に格納 features.5.1.block.1.0.weight\n",
            "params_to_update_1に格納 features.5.1.block.1.1.weight\n",
            "params_to_update_1に格納 features.5.1.block.1.1.bias\n",
            "params_to_update_1に格納 features.5.1.block.2.fc1.weight\n",
            "params_to_update_1に格納 features.5.1.block.2.fc1.bias\n",
            "params_to_update_1に格納 features.5.1.block.2.fc2.weight\n",
            "params_to_update_1に格納 features.5.1.block.2.fc2.bias\n",
            "params_to_update_1に格納 features.5.1.block.3.0.weight\n",
            "params_to_update_1に格納 features.5.1.block.3.1.weight\n",
            "params_to_update_1に格納 features.5.1.block.3.1.bias\n",
            "params_to_update_1に格納 features.5.2.block.0.0.weight\n",
            "params_to_update_1に格納 features.5.2.block.0.1.weight\n",
            "params_to_update_1に格納 features.5.2.block.0.1.bias\n",
            "params_to_update_1に格納 features.5.2.block.1.0.weight\n",
            "params_to_update_1に格納 features.5.2.block.1.1.weight\n",
            "params_to_update_1に格納 features.5.2.block.1.1.bias\n",
            "params_to_update_1に格納 features.5.2.block.2.fc1.weight\n",
            "params_to_update_1に格納 features.5.2.block.2.fc1.bias\n",
            "params_to_update_1に格納 features.5.2.block.2.fc2.weight\n",
            "params_to_update_1に格納 features.5.2.block.2.fc2.bias\n",
            "params_to_update_1に格納 features.5.2.block.3.0.weight\n",
            "params_to_update_1に格納 features.5.2.block.3.1.weight\n",
            "params_to_update_1に格納 features.5.2.block.3.1.bias\n",
            "params_to_update_1に格納 features.5.3.block.0.0.weight\n",
            "params_to_update_1に格納 features.5.3.block.0.1.weight\n",
            "params_to_update_1に格納 features.5.3.block.0.1.bias\n",
            "params_to_update_1に格納 features.5.3.block.1.0.weight\n",
            "params_to_update_1に格納 features.5.3.block.1.1.weight\n",
            "params_to_update_1に格納 features.5.3.block.1.1.bias\n",
            "params_to_update_1に格納 features.5.3.block.2.fc1.weight\n",
            "params_to_update_1に格納 features.5.3.block.2.fc1.bias\n",
            "params_to_update_1に格納 features.5.3.block.2.fc2.weight\n",
            "params_to_update_1に格納 features.5.3.block.2.fc2.bias\n",
            "params_to_update_1に格納 features.5.3.block.3.0.weight\n",
            "params_to_update_1に格納 features.5.3.block.3.1.weight\n",
            "params_to_update_1に格納 features.5.3.block.3.1.bias\n",
            "params_to_update_1に格納 features.5.4.block.0.0.weight\n",
            "params_to_update_1に格納 features.5.4.block.0.1.weight\n",
            "params_to_update_1に格納 features.5.4.block.0.1.bias\n",
            "params_to_update_1に格納 features.5.4.block.1.0.weight\n",
            "params_to_update_1に格納 features.5.4.block.1.1.weight\n",
            "params_to_update_1に格納 features.5.4.block.1.1.bias\n",
            "params_to_update_1に格納 features.5.4.block.2.fc1.weight\n",
            "params_to_update_1に格納 features.5.4.block.2.fc1.bias\n",
            "params_to_update_1に格納 features.5.4.block.2.fc2.weight\n",
            "params_to_update_1に格納 features.5.4.block.2.fc2.bias\n",
            "params_to_update_1に格納 features.5.4.block.3.0.weight\n",
            "params_to_update_1に格納 features.5.4.block.3.1.weight\n",
            "params_to_update_1に格納 features.5.4.block.3.1.bias\n",
            "params_to_update_1に格納 features.5.5.block.0.0.weight\n",
            "params_to_update_1に格納 features.5.5.block.0.1.weight\n",
            "params_to_update_1に格納 features.5.5.block.0.1.bias\n",
            "params_to_update_1に格納 features.5.5.block.1.0.weight\n",
            "params_to_update_1に格納 features.5.5.block.1.1.weight\n",
            "params_to_update_1に格納 features.5.5.block.1.1.bias\n",
            "params_to_update_1に格納 features.5.5.block.2.fc1.weight\n",
            "params_to_update_1に格納 features.5.5.block.2.fc1.bias\n",
            "params_to_update_1に格納 features.5.5.block.2.fc2.weight\n",
            "params_to_update_1に格納 features.5.5.block.2.fc2.bias\n",
            "params_to_update_1に格納 features.5.5.block.3.0.weight\n",
            "params_to_update_1に格納 features.5.5.block.3.1.weight\n",
            "params_to_update_1に格納 features.5.5.block.3.1.bias\n",
            "params_to_update_1に格納 features.5.6.block.0.0.weight\n",
            "params_to_update_1に格納 features.5.6.block.0.1.weight\n",
            "params_to_update_1に格納 features.5.6.block.0.1.bias\n",
            "params_to_update_1に格納 features.5.6.block.1.0.weight\n",
            "params_to_update_1に格納 features.5.6.block.1.1.weight\n",
            "params_to_update_1に格納 features.5.6.block.1.1.bias\n",
            "params_to_update_1に格納 features.5.6.block.2.fc1.weight\n",
            "params_to_update_1に格納 features.5.6.block.2.fc1.bias\n",
            "params_to_update_1に格納 features.5.6.block.2.fc2.weight\n",
            "params_to_update_1に格納 features.5.6.block.2.fc2.bias\n",
            "params_to_update_1に格納 features.5.6.block.3.0.weight\n",
            "params_to_update_1に格納 features.5.6.block.3.1.weight\n",
            "params_to_update_1に格納 features.5.6.block.3.1.bias\n",
            "params_to_update_1に格納 features.5.7.block.0.0.weight\n",
            "params_to_update_1に格納 features.5.7.block.0.1.weight\n",
            "params_to_update_1に格納 features.5.7.block.0.1.bias\n",
            "params_to_update_1に格納 features.5.7.block.1.0.weight\n",
            "params_to_update_1に格納 features.5.7.block.1.1.weight\n",
            "params_to_update_1に格納 features.5.7.block.1.1.bias\n",
            "params_to_update_1に格納 features.5.7.block.2.fc1.weight\n",
            "params_to_update_1に格納 features.5.7.block.2.fc1.bias\n",
            "params_to_update_1に格納 features.5.7.block.2.fc2.weight\n",
            "params_to_update_1に格納 features.5.7.block.2.fc2.bias\n",
            "params_to_update_1に格納 features.5.7.block.3.0.weight\n",
            "params_to_update_1に格納 features.5.7.block.3.1.weight\n",
            "params_to_update_1に格納 features.5.7.block.3.1.bias\n",
            "params_to_update_1に格納 features.5.8.block.0.0.weight\n",
            "params_to_update_1に格納 features.5.8.block.0.1.weight\n",
            "params_to_update_1に格納 features.5.8.block.0.1.bias\n",
            "params_to_update_1に格納 features.5.8.block.1.0.weight\n",
            "params_to_update_1に格納 features.5.8.block.1.1.weight\n",
            "params_to_update_1に格納 features.5.8.block.1.1.bias\n",
            "params_to_update_1に格納 features.5.8.block.2.fc1.weight\n",
            "params_to_update_1に格納 features.5.8.block.2.fc1.bias\n",
            "params_to_update_1に格納 features.5.8.block.2.fc2.weight\n",
            "params_to_update_1に格納 features.5.8.block.2.fc2.bias\n",
            "params_to_update_1に格納 features.5.8.block.3.0.weight\n",
            "params_to_update_1に格納 features.5.8.block.3.1.weight\n",
            "params_to_update_1に格納 features.5.8.block.3.1.bias\n",
            "params_to_update_1に格納 features.5.9.block.0.0.weight\n",
            "params_to_update_1に格納 features.5.9.block.0.1.weight\n",
            "params_to_update_1に格納 features.5.9.block.0.1.bias\n",
            "params_to_update_1に格納 features.5.9.block.1.0.weight\n",
            "params_to_update_1に格納 features.5.9.block.1.1.weight\n",
            "params_to_update_1に格納 features.5.9.block.1.1.bias\n",
            "params_to_update_1に格納 features.5.9.block.2.fc1.weight\n",
            "params_to_update_1に格納 features.5.9.block.2.fc1.bias\n",
            "params_to_update_1に格納 features.5.9.block.2.fc2.weight\n",
            "params_to_update_1に格納 features.5.9.block.2.fc2.bias\n",
            "params_to_update_1に格納 features.5.9.block.3.0.weight\n",
            "params_to_update_1に格納 features.5.9.block.3.1.weight\n",
            "params_to_update_1に格納 features.5.9.block.3.1.bias\n",
            "params_to_update_1に格納 features.6.0.block.0.0.weight\n",
            "params_to_update_1に格納 features.6.0.block.0.1.weight\n",
            "params_to_update_1に格納 features.6.0.block.0.1.bias\n",
            "params_to_update_1に格納 features.6.0.block.1.0.weight\n",
            "params_to_update_1に格納 features.6.0.block.1.1.weight\n",
            "params_to_update_1に格納 features.6.0.block.1.1.bias\n",
            "params_to_update_1に格納 features.6.0.block.2.fc1.weight\n",
            "params_to_update_1に格納 features.6.0.block.2.fc1.bias\n",
            "params_to_update_1に格納 features.6.0.block.2.fc2.weight\n",
            "params_to_update_1に格納 features.6.0.block.2.fc2.bias\n",
            "params_to_update_1に格納 features.6.0.block.3.0.weight\n",
            "params_to_update_1に格納 features.6.0.block.3.1.weight\n",
            "params_to_update_1に格納 features.6.0.block.3.1.bias\n",
            "params_to_update_1に格納 features.6.1.block.0.0.weight\n",
            "params_to_update_1に格納 features.6.1.block.0.1.weight\n",
            "params_to_update_1に格納 features.6.1.block.0.1.bias\n",
            "params_to_update_1に格納 features.6.1.block.1.0.weight\n",
            "params_to_update_1に格納 features.6.1.block.1.1.weight\n",
            "params_to_update_1に格納 features.6.1.block.1.1.bias\n",
            "params_to_update_1に格納 features.6.1.block.2.fc1.weight\n",
            "params_to_update_1に格納 features.6.1.block.2.fc1.bias\n",
            "params_to_update_1に格納 features.6.1.block.2.fc2.weight\n",
            "params_to_update_1に格納 features.6.1.block.2.fc2.bias\n",
            "params_to_update_1に格納 features.6.1.block.3.0.weight\n",
            "params_to_update_1に格納 features.6.1.block.3.1.weight\n",
            "params_to_update_1に格納 features.6.1.block.3.1.bias\n",
            "params_to_update_1に格納 features.6.2.block.0.0.weight\n",
            "params_to_update_1に格納 features.6.2.block.0.1.weight\n",
            "params_to_update_1に格納 features.6.2.block.0.1.bias\n",
            "params_to_update_1に格納 features.6.2.block.1.0.weight\n",
            "params_to_update_1に格納 features.6.2.block.1.1.weight\n",
            "params_to_update_1に格納 features.6.2.block.1.1.bias\n",
            "params_to_update_1に格納 features.6.2.block.2.fc1.weight\n",
            "params_to_update_1に格納 features.6.2.block.2.fc1.bias\n",
            "params_to_update_1に格納 features.6.2.block.2.fc2.weight\n",
            "params_to_update_1に格納 features.6.2.block.2.fc2.bias\n",
            "params_to_update_1に格納 features.6.2.block.3.0.weight\n",
            "params_to_update_1に格納 features.6.2.block.3.1.weight\n",
            "params_to_update_1に格納 features.6.2.block.3.1.bias\n",
            "params_to_update_1に格納 features.6.3.block.0.0.weight\n",
            "params_to_update_1に格納 features.6.3.block.0.1.weight\n",
            "params_to_update_1に格納 features.6.3.block.0.1.bias\n",
            "params_to_update_1に格納 features.6.3.block.1.0.weight\n",
            "params_to_update_1に格納 features.6.3.block.1.1.weight\n",
            "params_to_update_1に格納 features.6.3.block.1.1.bias\n",
            "params_to_update_1に格納 features.6.3.block.2.fc1.weight\n",
            "params_to_update_1に格納 features.6.3.block.2.fc1.bias\n",
            "params_to_update_1に格納 features.6.3.block.2.fc2.weight\n",
            "params_to_update_1に格納 features.6.3.block.2.fc2.bias\n",
            "params_to_update_1に格納 features.6.3.block.3.0.weight\n",
            "params_to_update_1に格納 features.6.3.block.3.1.weight\n",
            "params_to_update_1に格納 features.6.3.block.3.1.bias\n",
            "params_to_update_1に格納 features.6.4.block.0.0.weight\n",
            "params_to_update_1に格納 features.6.4.block.0.1.weight\n",
            "params_to_update_1に格納 features.6.4.block.0.1.bias\n",
            "params_to_update_1に格納 features.6.4.block.1.0.weight\n",
            "params_to_update_1に格納 features.6.4.block.1.1.weight\n",
            "params_to_update_1に格納 features.6.4.block.1.1.bias\n",
            "params_to_update_1に格納 features.6.4.block.2.fc1.weight\n",
            "params_to_update_1に格納 features.6.4.block.2.fc1.bias\n",
            "params_to_update_1に格納 features.6.4.block.2.fc2.weight\n",
            "params_to_update_1に格納 features.6.4.block.2.fc2.bias\n",
            "params_to_update_1に格納 features.6.4.block.3.0.weight\n",
            "params_to_update_1に格納 features.6.4.block.3.1.weight\n",
            "params_to_update_1に格納 features.6.4.block.3.1.bias\n",
            "params_to_update_1に格納 features.6.5.block.0.0.weight\n",
            "params_to_update_1に格納 features.6.5.block.0.1.weight\n",
            "params_to_update_1に格納 features.6.5.block.0.1.bias\n",
            "params_to_update_1に格納 features.6.5.block.1.0.weight\n",
            "params_to_update_1に格納 features.6.5.block.1.1.weight\n",
            "params_to_update_1に格納 features.6.5.block.1.1.bias\n",
            "params_to_update_1に格納 features.6.5.block.2.fc1.weight\n",
            "params_to_update_1に格納 features.6.5.block.2.fc1.bias\n",
            "params_to_update_1に格納 features.6.5.block.2.fc2.weight\n",
            "params_to_update_1に格納 features.6.5.block.2.fc2.bias\n",
            "params_to_update_1に格納 features.6.5.block.3.0.weight\n",
            "params_to_update_1に格納 features.6.5.block.3.1.weight\n",
            "params_to_update_1に格納 features.6.5.block.3.1.bias\n",
            "params_to_update_1に格納 features.6.6.block.0.0.weight\n",
            "params_to_update_1に格納 features.6.6.block.0.1.weight\n",
            "params_to_update_1に格納 features.6.6.block.0.1.bias\n",
            "params_to_update_1に格納 features.6.6.block.1.0.weight\n",
            "params_to_update_1に格納 features.6.6.block.1.1.weight\n",
            "params_to_update_1に格納 features.6.6.block.1.1.bias\n",
            "params_to_update_1に格納 features.6.6.block.2.fc1.weight\n",
            "params_to_update_1に格納 features.6.6.block.2.fc1.bias\n",
            "params_to_update_1に格納 features.6.6.block.2.fc2.weight\n",
            "params_to_update_1に格納 features.6.6.block.2.fc2.bias\n",
            "params_to_update_1に格納 features.6.6.block.3.0.weight\n",
            "params_to_update_1に格納 features.6.6.block.3.1.weight\n",
            "params_to_update_1に格納 features.6.6.block.3.1.bias\n",
            "params_to_update_1に格納 features.6.7.block.0.0.weight\n",
            "params_to_update_1に格納 features.6.7.block.0.1.weight\n",
            "params_to_update_1に格納 features.6.7.block.0.1.bias\n",
            "params_to_update_1に格納 features.6.7.block.1.0.weight\n",
            "params_to_update_1に格納 features.6.7.block.1.1.weight\n",
            "params_to_update_1に格納 features.6.7.block.1.1.bias\n",
            "params_to_update_1に格納 features.6.7.block.2.fc1.weight\n",
            "params_to_update_1に格納 features.6.7.block.2.fc1.bias\n",
            "params_to_update_1に格納 features.6.7.block.2.fc2.weight\n",
            "params_to_update_1に格納 features.6.7.block.2.fc2.bias\n",
            "params_to_update_1に格納 features.6.7.block.3.0.weight\n",
            "params_to_update_1に格納 features.6.7.block.3.1.weight\n",
            "params_to_update_1に格納 features.6.7.block.3.1.bias\n",
            "params_to_update_1に格納 features.6.8.block.0.0.weight\n",
            "params_to_update_1に格納 features.6.8.block.0.1.weight\n",
            "params_to_update_1に格納 features.6.8.block.0.1.bias\n",
            "params_to_update_1に格納 features.6.8.block.1.0.weight\n",
            "params_to_update_1に格納 features.6.8.block.1.1.weight\n",
            "params_to_update_1に格納 features.6.8.block.1.1.bias\n",
            "params_to_update_1に格納 features.6.8.block.2.fc1.weight\n",
            "params_to_update_1に格納 features.6.8.block.2.fc1.bias\n",
            "params_to_update_1に格納 features.6.8.block.2.fc2.weight\n",
            "params_to_update_1に格納 features.6.8.block.2.fc2.bias\n",
            "params_to_update_1に格納 features.6.8.block.3.0.weight\n",
            "params_to_update_1に格納 features.6.8.block.3.1.weight\n",
            "params_to_update_1に格納 features.6.8.block.3.1.bias\n",
            "params_to_update_1に格納 features.6.9.block.0.0.weight\n",
            "params_to_update_1に格納 features.6.9.block.0.1.weight\n",
            "params_to_update_1に格納 features.6.9.block.0.1.bias\n",
            "params_to_update_1に格納 features.6.9.block.1.0.weight\n",
            "params_to_update_1に格納 features.6.9.block.1.1.weight\n",
            "params_to_update_1に格納 features.6.9.block.1.1.bias\n",
            "params_to_update_1に格納 features.6.9.block.2.fc1.weight\n",
            "params_to_update_1に格納 features.6.9.block.2.fc1.bias\n",
            "params_to_update_1に格納 features.6.9.block.2.fc2.weight\n",
            "params_to_update_1に格納 features.6.9.block.2.fc2.bias\n",
            "params_to_update_1に格納 features.6.9.block.3.0.weight\n",
            "params_to_update_1に格納 features.6.9.block.3.1.weight\n",
            "params_to_update_1に格納 features.6.9.block.3.1.bias\n",
            "params_to_update_1に格納 features.6.10.block.0.0.weight\n",
            "params_to_update_1に格納 features.6.10.block.0.1.weight\n",
            "params_to_update_1に格納 features.6.10.block.0.1.bias\n",
            "params_to_update_1に格納 features.6.10.block.1.0.weight\n",
            "params_to_update_1に格納 features.6.10.block.1.1.weight\n",
            "params_to_update_1に格納 features.6.10.block.1.1.bias\n",
            "params_to_update_1に格納 features.6.10.block.2.fc1.weight\n",
            "params_to_update_1に格納 features.6.10.block.2.fc1.bias\n",
            "params_to_update_1に格納 features.6.10.block.2.fc2.weight\n",
            "params_to_update_1に格納 features.6.10.block.2.fc2.bias\n",
            "params_to_update_1に格納 features.6.10.block.3.0.weight\n",
            "params_to_update_1に格納 features.6.10.block.3.1.weight\n",
            "params_to_update_1に格納 features.6.10.block.3.1.bias\n",
            "params_to_update_1に格納 features.6.11.block.0.0.weight\n",
            "params_to_update_1に格納 features.6.11.block.0.1.weight\n",
            "params_to_update_1に格納 features.6.11.block.0.1.bias\n",
            "params_to_update_1に格納 features.6.11.block.1.0.weight\n",
            "params_to_update_1に格納 features.6.11.block.1.1.weight\n",
            "params_to_update_1に格納 features.6.11.block.1.1.bias\n",
            "params_to_update_1に格納 features.6.11.block.2.fc1.weight\n",
            "params_to_update_1に格納 features.6.11.block.2.fc1.bias\n",
            "params_to_update_1に格納 features.6.11.block.2.fc2.weight\n",
            "params_to_update_1に格納 features.6.11.block.2.fc2.bias\n",
            "params_to_update_1に格納 features.6.11.block.3.0.weight\n",
            "params_to_update_1に格納 features.6.11.block.3.1.weight\n",
            "params_to_update_1に格納 features.6.11.block.3.1.bias\n",
            "params_to_update_1に格納 features.6.12.block.0.0.weight\n",
            "params_to_update_1に格納 features.6.12.block.0.1.weight\n",
            "params_to_update_1に格納 features.6.12.block.0.1.bias\n",
            "params_to_update_1に格納 features.6.12.block.1.0.weight\n",
            "params_to_update_1に格納 features.6.12.block.1.1.weight\n",
            "params_to_update_1に格納 features.6.12.block.1.1.bias\n",
            "params_to_update_1に格納 features.6.12.block.2.fc1.weight\n",
            "params_to_update_1に格納 features.6.12.block.2.fc1.bias\n",
            "params_to_update_1に格納 features.6.12.block.2.fc2.weight\n",
            "params_to_update_1に格納 features.6.12.block.2.fc2.bias\n",
            "params_to_update_1に格納 features.6.12.block.3.0.weight\n",
            "params_to_update_1に格納 features.6.12.block.3.1.weight\n",
            "params_to_update_1に格納 features.6.12.block.3.1.bias\n",
            "params_to_update_1に格納 features.7.0.block.0.0.weight\n",
            "params_to_update_1に格納 features.7.0.block.0.1.weight\n",
            "params_to_update_1に格納 features.7.0.block.0.1.bias\n",
            "params_to_update_1に格納 features.7.0.block.1.0.weight\n",
            "params_to_update_1に格納 features.7.0.block.1.1.weight\n",
            "params_to_update_1に格納 features.7.0.block.1.1.bias\n",
            "params_to_update_1に格納 features.7.0.block.2.fc1.weight\n",
            "params_to_update_1に格納 features.7.0.block.2.fc1.bias\n",
            "params_to_update_1に格納 features.7.0.block.2.fc2.weight\n",
            "params_to_update_1に格納 features.7.0.block.2.fc2.bias\n",
            "params_to_update_1に格納 features.7.0.block.3.0.weight\n",
            "params_to_update_1に格納 features.7.0.block.3.1.weight\n",
            "params_to_update_1に格納 features.7.0.block.3.1.bias\n",
            "params_to_update_1に格納 features.7.1.block.0.0.weight\n",
            "params_to_update_1に格納 features.7.1.block.0.1.weight\n",
            "params_to_update_1に格納 features.7.1.block.0.1.bias\n",
            "params_to_update_1に格納 features.7.1.block.1.0.weight\n",
            "params_to_update_1に格納 features.7.1.block.1.1.weight\n",
            "params_to_update_1に格納 features.7.1.block.1.1.bias\n",
            "params_to_update_1に格納 features.7.1.block.2.fc1.weight\n",
            "params_to_update_1に格納 features.7.1.block.2.fc1.bias\n",
            "params_to_update_1に格納 features.7.1.block.2.fc2.weight\n",
            "params_to_update_1に格納 features.7.1.block.2.fc2.bias\n",
            "params_to_update_1に格納 features.7.1.block.3.0.weight\n",
            "params_to_update_1に格納 features.7.1.block.3.1.weight\n",
            "params_to_update_1に格納 features.7.1.block.3.1.bias\n",
            "params_to_update_1に格納 features.7.2.block.0.0.weight\n",
            "params_to_update_1に格納 features.7.2.block.0.1.weight\n",
            "params_to_update_1に格納 features.7.2.block.0.1.bias\n",
            "params_to_update_1に格納 features.7.2.block.1.0.weight\n",
            "params_to_update_1に格納 features.7.2.block.1.1.weight\n",
            "params_to_update_1に格納 features.7.2.block.1.1.bias\n",
            "params_to_update_1に格納 features.7.2.block.2.fc1.weight\n",
            "params_to_update_1に格納 features.7.2.block.2.fc1.bias\n",
            "params_to_update_1に格納 features.7.2.block.2.fc2.weight\n",
            "params_to_update_1に格納 features.7.2.block.2.fc2.bias\n",
            "params_to_update_1に格納 features.7.2.block.3.0.weight\n",
            "params_to_update_1に格納 features.7.2.block.3.1.weight\n",
            "params_to_update_1に格納 features.7.2.block.3.1.bias\n",
            "params_to_update_1に格納 features.7.3.block.0.0.weight\n",
            "params_to_update_1に格納 features.7.3.block.0.1.weight\n",
            "params_to_update_1に格納 features.7.3.block.0.1.bias\n",
            "params_to_update_1に格納 features.7.3.block.1.0.weight\n",
            "params_to_update_1に格納 features.7.3.block.1.1.weight\n",
            "params_to_update_1に格納 features.7.3.block.1.1.bias\n",
            "params_to_update_1に格納 features.7.3.block.2.fc1.weight\n",
            "params_to_update_1に格納 features.7.3.block.2.fc1.bias\n",
            "params_to_update_1に格納 features.7.3.block.2.fc2.weight\n",
            "params_to_update_1に格納 features.7.3.block.2.fc2.bias\n",
            "params_to_update_1に格納 features.7.3.block.3.0.weight\n",
            "params_to_update_1に格納 features.7.3.block.3.1.weight\n",
            "params_to_update_1に格納 features.7.3.block.3.1.bias\n",
            "params_to_update_1に格納 features.8.0.weight\n",
            "params_to_update_1に格納 features.8.1.weight\n",
            "params_to_update_1に格納 features.8.1.bias\n",
            "params_to_update_2に格納 classifier.1.weight\n",
            "params_to_update_2に格納 classifier.1.bias\n"
          ]
        }
      ]
    },
    {
      "cell_type": "code",
      "source": [],
      "metadata": {
        "colab": {
          "base_uri": "https://localhost:8080/"
        },
        "id": "-U8DGwf8zS7H",
        "outputId": "fdd02d80-0724-4845-db4f-e146ac46c634"
      },
      "execution_count": 89,
      "outputs": [
        {
          "output_type": "execute_result",
          "data": {
            "text/plain": [
              "[]"
            ]
          },
          "metadata": {},
          "execution_count": 89
        }
      ]
    },
    {
      "cell_type": "markdown",
      "source": [
        "```\n",
        "features.0.weight\n",
        "features.0.bias\n",
        "~~~~~\n",
        "features.28.weight\n",
        "features.28.bias\n",
        "classifier.0.weight\n",
        "classifier.0.bias\n",
        "classifier.3.weight\n",
        "classifier.3.bias\n",
        "classifier.6.weight\n",
        "classifier.6.bias\n",
        "```\n",
        "\n",
        "\n",
        "\n",
        "```\n",
        "conv1.weight\n",
        "bn1.weight\n",
        "bn1.bias\n",
        "layer1.0.conv1.weight\n",
        "layer1.0.bn1.weight\n",
        "layer1.0.bn1.bias\n",
        "layer1.0.conv2.weight\n",
        "layer1.0.bn2.weight\n",
        "layer1.0.bn2.bias\n",
        "layer1.0.conv3.weight\n",
        "layer1.0.bn3.weight\n",
        "layer1.0.bn3.bias\n",
        "layer1.0.downsample.0.weight\n",
        "layer1.0.downsample.1.weight\n",
        "layer1.0.downsample.1.bias\n",
        "layer1.1.conv1.weight\n",
        "layer1.1.bn1.weight\n",
        "layer1.1.bn1.bias\n",
        "layer1.1.conv2.weight\n",
        "layer1.1.bn2.weight\n",
        "layer1.1.bn2.bias\n",
        "layer1.1.conv3.weight\n",
        "layer1.1.bn3.weight\n",
        "layer1.1.bn3.bias\n",
        "layer1.2.conv1.weight\n",
        "layer1.2.bn1.weight\n",
        "layer1.2.bn1.bias\n",
        "layer1.2.conv2.weight\n",
        "layer1.2.bn2.weight\n",
        "layer1.2.bn2.bias\n",
        "layer1.2.conv3.weight\n",
        "layer1.2.bn3.weight\n",
        "layer1.2.bn3.bias\n",
        "layer2.0.conv1.weight\n",
        "layer2.0.bn1.weight\n",
        "layer2.0.bn1.bias\n",
        "layer2.0.conv2.weight\n",
        "layer2.0.bn2.weight\n",
        "layer2.0.bn2.bias\n",
        "layer2.0.conv3.weight\n",
        "layer2.0.bn3.weight\n",
        "layer2.0.bn3.bias\n",
        "layer2.0.downsample.0.weight\n",
        "layer2.0.downsample.1.weight\n",
        "layer2.0.downsample.1.bias\n",
        "layer2.1.conv1.weight\n",
        "layer2.1.bn1.weight\n",
        "layer2.1.bn1.bias\n",
        "layer2.1.conv2.weight\n",
        "layer2.1.bn2.weight\n",
        "layer2.1.bn2.bias\n",
        "layer2.1.conv3.weight\n",
        "layer2.1.bn3.weight\n",
        "layer2.1.bn3.bias\n",
        "layer2.2.conv1.weight\n",
        "layer2.2.bn1.weight\n",
        "layer2.2.bn1.bias\n",
        "layer2.2.conv2.weight\n",
        "layer2.2.bn2.weight\n",
        "layer2.2.bn2.bias\n",
        "layer2.2.conv3.weight\n",
        "layer2.2.bn3.weight\n",
        "layer2.2.bn3.bias\n",
        "layer2.3.conv1.weight\n",
        "layer2.3.bn1.weight\n",
        "layer2.3.bn1.bias\n",
        "layer2.3.conv2.weight\n",
        "layer2.3.bn2.weight\n",
        "layer2.3.bn2.bias\n",
        "layer2.3.conv3.weight\n",
        "layer2.3.bn3.weight\n",
        "layer2.3.bn3.bias\n",
        "layer3.0.conv1.weight\n",
        "layer3.0.bn1.weight\n",
        "layer3.0.bn1.bias\n",
        "layer3.0.conv2.weight\n",
        "layer3.0.bn2.weight\n",
        "layer3.0.bn2.bias\n",
        "layer3.0.conv3.weight\n",
        "layer3.0.bn3.weight\n",
        "layer3.0.bn3.bias\n",
        "layer3.0.downsample.0.weight\n",
        "layer3.0.downsample.1.weight\n",
        "layer3.0.downsample.1.bias\n",
        "layer3.1.conv1.weight\n",
        "layer3.1.bn1.weight\n",
        "layer3.1.bn1.bias\n",
        "layer3.1.conv2.weight\n",
        "layer3.1.bn2.weight\n",
        "layer3.1.bn2.bias\n",
        "layer3.1.conv3.weight\n",
        "layer3.1.bn3.weight\n",
        "layer3.1.bn3.bias\n",
        "layer3.2.conv1.weight\n",
        "layer3.2.bn1.weight\n",
        "layer3.2.bn1.bias\n",
        "layer3.2.conv2.weight\n",
        "layer3.2.bn2.weight\n",
        "layer3.2.bn2.bias\n",
        "layer3.2.conv3.weight\n",
        "layer3.2.bn3.weight\n",
        "layer3.2.bn3.bias\n",
        "layer3.3.conv1.weight\n",
        "layer3.3.bn1.weight\n",
        "layer3.3.bn1.bias\n",
        "layer3.3.conv2.weight\n",
        "layer3.3.bn2.weight\n",
        "layer3.3.bn2.bias\n",
        "layer3.3.conv3.weight\n",
        "layer3.3.bn3.weight\n",
        "layer3.3.bn3.bias\n",
        "layer3.4.conv1.weight\n",
        "layer3.4.bn1.weight\n",
        "layer3.4.bn1.bias\n",
        "layer3.4.conv2.weight\n",
        "layer3.4.bn2.weight\n",
        "layer3.4.bn2.bias\n",
        "layer3.4.conv3.weight\n",
        "layer3.4.bn3.weight\n",
        "layer3.4.bn3.bias\n",
        "layer3.5.conv1.weight\n",
        "layer3.5.bn1.weight\n",
        "layer3.5.bn1.bias\n",
        "layer3.5.conv2.weight\n",
        "layer3.5.bn2.weight\n",
        "layer3.5.bn2.bias\n",
        "layer3.5.conv3.weight\n",
        "layer3.5.bn3.weight\n",
        "layer3.5.bn3.bias\n",
        "layer4.0.conv1.weight\n",
        "layer4.0.bn1.weight\n",
        "layer4.0.bn1.bias\n",
        "layer4.0.conv2.weight\n",
        "layer4.0.bn2.weight\n",
        "layer4.0.bn2.bias\n",
        "layer4.0.conv3.weight\n",
        "layer4.0.bn3.weight\n",
        "layer4.0.bn3.bias\n",
        "layer4.0.downsample.0.weight\n",
        "layer4.0.downsample.1.weight\n",
        "layer4.0.downsample.1.bias\n",
        "layer4.1.conv1.weight\n",
        "layer4.1.bn1.weight\n",
        "layer4.1.bn1.bias\n",
        "layer4.1.conv2.weight\n",
        "layer4.1.bn2.weight\n",
        "layer4.1.bn2.bias\n",
        "layer4.1.conv3.weight\n",
        "layer4.1.bn3.weight\n",
        "layer4.1.bn3.bias\n",
        "layer4.2.conv1.weight\n",
        "layer4.2.bn1.weight\n",
        "layer4.2.bn1.bias\n",
        "layer4.2.conv2.weight\n",
        "layer4.2.bn2.weight\n",
        "layer4.2.bn2.bias\n",
        "layer4.2.conv3.weight\n",
        "layer4.2.bn3.weight\n",
        "layer4.2.bn3.bias\n",
        "fc.weight\n",
        "fc.bias\n",
        "```\n",
        "\n",
        "```\n",
        "features.0.0.weight\n",
        "features.0.1.weight\n",
        "features.0.1.bias\n",
        "features.1.0.block.0.0.weight\n",
        "features.1.0.block.0.1.weight\n",
        "features.1.0.block.0.1.bias\n",
        "features.1.0.block.1.fc1.weight\n",
        "features.1.0.block.1.fc1.bias\n",
        "features.1.0.block.1.fc2.weight\n",
        "features.1.0.block.1.fc2.bias\n",
        "features.1.0.block.2.0.weight\n",
        "features.1.0.block.2.1.weight\n",
        "features.1.0.block.2.1.bias\n",
        "features.1.1.block.0.0.weight\n",
        "features.1.1.block.0.1.weight\n",
        "features.1.1.block.0.1.bias\n",
        "features.1.1.block.1.fc1.weight\n",
        "features.1.1.block.1.fc1.bias\n",
        "features.1.1.block.1.fc2.weight\n",
        "features.1.1.block.1.fc2.bias\n",
        "features.1.1.block.2.0.weight\n",
        "features.1.1.block.2.1.weight\n",
        "features.1.1.block.2.1.bias\n",
        "features.1.2.block.0.0.weight\n",
        "features.1.2.block.0.1.weight\n",
        "features.1.2.block.0.1.bias\n",
        "features.1.2.block.1.fc1.weight\n",
        "features.1.2.block.1.fc1.bias\n",
        "features.1.2.block.1.fc2.weight\n",
        "features.1.2.block.1.fc2.bias\n",
        "features.1.2.block.2.0.weight\n",
        "features.1.2.block.2.1.weight\n",
        "features.1.2.block.2.1.bias\n",
        "features.1.3.block.0.0.weight\n",
        "features.1.3.block.0.1.weight\n",
        "features.1.3.block.0.1.bias\n",
        "features.1.3.block.1.fc1.weight\n",
        "features.1.3.block.1.fc1.bias\n",
        "features.1.3.block.1.fc2.weight\n",
        "features.1.3.block.1.fc2.bias\n",
        "features.1.3.block.2.0.weight\n",
        "features.1.3.block.2.1.weight\n",
        "features.1.3.block.2.1.bias\n",
        "features.2.0.block.0.0.weight\n",
        "features.2.0.block.0.1.weight\n",
        "features.2.0.block.0.1.bias\n",
        "features.2.0.block.1.0.weight\n",
        "features.2.0.block.1.1.weight\n",
        "features.2.0.block.1.1.bias\n",
        "features.2.0.block.2.fc1.weight\n",
        "features.2.0.block.2.fc1.bias\n",
        "features.2.0.block.2.fc2.weight\n",
        "features.2.0.block.2.fc2.bias\n",
        "features.2.0.block.3.0.weight\n",
        "features.2.0.block.3.1.weight\n",
        "features.2.0.block.3.1.bias\n",
        "features.2.1.block.0.0.weight\n",
        "features.2.1.block.0.1.weight\n",
        "features.2.1.block.0.1.bias\n",
        "features.2.1.block.1.0.weight\n",
        "features.2.1.block.1.1.weight\n",
        "features.2.1.block.1.1.bias\n",
        "features.2.1.block.2.fc1.weight\n",
        "features.2.1.block.2.fc1.bias\n",
        "features.2.1.block.2.fc2.weight\n",
        "features.2.1.block.2.fc2.bias\n",
        "features.2.1.block.3.0.weight\n",
        "features.2.1.block.3.1.weight\n",
        "features.2.1.block.3.1.bias\n",
        "features.2.2.block.0.0.weight\n",
        "features.2.2.block.0.1.weight\n",
        "features.2.2.block.0.1.bias\n",
        "features.2.2.block.1.0.weight\n",
        "features.2.2.block.1.1.weight\n",
        "features.2.2.block.1.1.bias\n",
        "features.2.2.block.2.fc1.weight\n",
        "features.2.2.block.2.fc1.bias\n",
        "features.2.2.block.2.fc2.weight\n",
        "features.2.2.block.2.fc2.bias\n",
        "features.2.2.block.3.0.weight\n",
        "features.2.2.block.3.1.weight\n",
        "features.2.2.block.3.1.bias\n",
        "features.2.3.block.0.0.weight\n",
        "features.2.3.block.0.1.weight\n",
        "features.2.3.block.0.1.bias\n",
        "features.2.3.block.1.0.weight\n",
        "features.2.3.block.1.1.weight\n",
        "features.2.3.block.1.1.bias\n",
        "features.2.3.block.2.fc1.weight\n",
        "features.2.3.block.2.fc1.bias\n",
        "features.2.3.block.2.fc2.weight\n",
        "features.2.3.block.2.fc2.bias\n",
        "features.2.3.block.3.0.weight\n",
        "features.2.3.block.3.1.weight\n",
        "features.2.3.block.3.1.bias\n",
        "features.2.4.block.0.0.weight\n",
        "features.2.4.block.0.1.weight\n",
        "features.2.4.block.0.1.bias\n",
        "features.2.4.block.1.0.weight\n",
        "features.2.4.block.1.1.weight\n",
        "features.2.4.block.1.1.bias\n",
        "features.2.4.block.2.fc1.weight\n",
        "features.2.4.block.2.fc1.bias\n",
        "features.2.4.block.2.fc2.weight\n",
        "features.2.4.block.2.fc2.bias\n",
        "features.2.4.block.3.0.weight\n",
        "features.2.4.block.3.1.weight\n",
        "features.2.4.block.3.1.bias\n",
        "features.2.5.block.0.0.weight\n",
        "features.2.5.block.0.1.weight\n",
        "features.2.5.block.0.1.bias\n",
        "features.2.5.block.1.0.weight\n",
        "features.2.5.block.1.1.weight\n",
        "features.2.5.block.1.1.bias\n",
        "features.2.5.block.2.fc1.weight\n",
        "features.2.5.block.2.fc1.bias\n",
        "features.2.5.block.2.fc2.weight\n",
        "features.2.5.block.2.fc2.bias\n",
        "features.2.5.block.3.0.weight\n",
        "features.2.5.block.3.1.weight\n",
        "features.2.5.block.3.1.bias\n",
        "features.2.6.block.0.0.weight\n",
        "features.2.6.block.0.1.weight\n",
        "features.2.6.block.0.1.bias\n",
        "features.2.6.block.1.0.weight\n",
        "features.2.6.block.1.1.weight\n",
        "features.2.6.block.1.1.bias\n",
        "features.2.6.block.2.fc1.weight\n",
        "features.2.6.block.2.fc1.bias\n",
        "features.2.6.block.2.fc2.weight\n",
        "features.2.6.block.2.fc2.bias\n",
        "features.2.6.block.3.0.weight\n",
        "features.2.6.block.3.1.weight\n",
        "features.2.6.block.3.1.bias\n",
        "features.3.0.block.0.0.weight\n",
        "features.3.0.block.0.1.weight\n",
        "features.3.0.block.0.1.bias\n",
        "features.3.0.block.1.0.weight\n",
        "features.3.0.block.1.1.weight\n",
        "features.3.0.block.1.1.bias\n",
        "features.3.0.block.2.fc1.weight\n",
        "features.3.0.block.2.fc1.bias\n",
        "features.3.0.block.2.fc2.weight\n",
        "features.3.0.block.2.fc2.bias\n",
        "features.3.0.block.3.0.weight\n",
        "features.3.0.block.3.1.weight\n",
        "features.3.0.block.3.1.bias\n",
        "features.3.1.block.0.0.weight\n",
        "features.3.1.block.0.1.weight\n",
        "features.3.1.block.0.1.bias\n",
        "features.3.1.block.1.0.weight\n",
        "features.3.1.block.1.1.weight\n",
        "features.3.1.block.1.1.bias\n",
        "features.3.1.block.2.fc1.weight\n",
        "features.3.1.block.2.fc1.bias\n",
        "features.3.1.block.2.fc2.weight\n",
        "features.3.1.block.2.fc2.bias\n",
        "features.3.1.block.3.0.weight\n",
        "features.3.1.block.3.1.weight\n",
        "features.3.1.block.3.1.bias\n",
        "features.3.2.block.0.0.weight\n",
        "features.3.2.block.0.1.weight\n",
        "features.3.2.block.0.1.bias\n",
        "features.3.2.block.1.0.weight\n",
        "features.3.2.block.1.1.weight\n",
        "features.3.2.block.1.1.bias\n",
        "features.3.2.block.2.fc1.weight\n",
        "features.3.2.block.2.fc1.bias\n",
        "features.3.2.block.2.fc2.weight\n",
        "features.3.2.block.2.fc2.bias\n",
        "features.3.2.block.3.0.weight\n",
        "features.3.2.block.3.1.weight\n",
        "features.3.2.block.3.1.bias\n",
        "features.3.3.block.0.0.weight\n",
        "features.3.3.block.0.1.weight\n",
        "features.3.3.block.0.1.bias\n",
        "features.3.3.block.1.0.weight\n",
        "features.3.3.block.1.1.weight\n",
        "features.3.3.block.1.1.bias\n",
        "features.3.3.block.2.fc1.weight\n",
        "features.3.3.block.2.fc1.bias\n",
        "features.3.3.block.2.fc2.weight\n",
        "features.3.3.block.2.fc2.bias\n",
        "features.3.3.block.3.0.weight\n",
        "features.3.3.block.3.1.weight\n",
        "features.3.3.block.3.1.bias\n",
        "features.3.4.block.0.0.weight\n",
        "features.3.4.block.0.1.weight\n",
        "features.3.4.block.0.1.bias\n",
        "features.3.4.block.1.0.weight\n",
        "features.3.4.block.1.1.weight\n",
        "features.3.4.block.1.1.bias\n",
        "features.3.4.block.2.fc1.weight\n",
        "features.3.4.block.2.fc1.bias\n",
        "features.3.4.block.2.fc2.weight\n",
        "features.3.4.block.2.fc2.bias\n",
        "features.3.4.block.3.0.weight\n",
        "features.3.4.block.3.1.weight\n",
        "features.3.4.block.3.1.bias\n",
        "features.3.5.block.0.0.weight\n",
        "features.3.5.block.0.1.weight\n",
        "features.3.5.block.0.1.bias\n",
        "features.3.5.block.1.0.weight\n",
        "features.3.5.block.1.1.weight\n",
        "features.3.5.block.1.1.bias\n",
        "features.3.5.block.2.fc1.weight\n",
        "features.3.5.block.2.fc1.bias\n",
        "features.3.5.block.2.fc2.weight\n",
        "features.3.5.block.2.fc2.bias\n",
        "features.3.5.block.3.0.weight\n",
        "features.3.5.block.3.1.weight\n",
        "features.3.5.block.3.1.bias\n",
        "features.3.6.block.0.0.weight\n",
        "features.3.6.block.0.1.weight\n",
        "features.3.6.block.0.1.bias\n",
        "features.3.6.block.1.0.weight\n",
        "features.3.6.block.1.1.weight\n",
        "features.3.6.block.1.1.bias\n",
        "features.3.6.block.2.fc1.weight\n",
        "features.3.6.block.2.fc1.bias\n",
        "features.3.6.block.2.fc2.weight\n",
        "features.3.6.block.2.fc2.bias\n",
        "features.3.6.block.3.0.weight\n",
        "features.3.6.block.3.1.weight\n",
        "features.3.6.block.3.1.bias\n",
        "features.4.0.block.0.0.weight\n",
        "features.4.0.block.0.1.weight\n",
        "features.4.0.block.0.1.bias\n",
        "features.4.0.block.1.0.weight\n",
        "features.4.0.block.1.1.weight\n",
        "features.4.0.block.1.1.bias\n",
        "features.4.0.block.2.fc1.weight\n",
        "features.4.0.block.2.fc1.bias\n",
        "features.4.0.block.2.fc2.weight\n",
        "features.4.0.block.2.fc2.bias\n",
        "features.4.0.block.3.0.weight\n",
        "features.4.0.block.3.1.weight\n",
        "features.4.0.block.3.1.bias\n",
        "features.4.1.block.0.0.weight\n",
        "features.4.1.block.0.1.weight\n",
        "features.4.1.block.0.1.bias\n",
        "features.4.1.block.1.0.weight\n",
        "features.4.1.block.1.1.weight\n",
        "features.4.1.block.1.1.bias\n",
        "features.4.1.block.2.fc1.weight\n",
        "features.4.1.block.2.fc1.bias\n",
        "features.4.1.block.2.fc2.weight\n",
        "features.4.1.block.2.fc2.bias\n",
        "features.4.1.block.3.0.weight\n",
        "features.4.1.block.3.1.weight\n",
        "features.4.1.block.3.1.bias\n",
        "features.4.2.block.0.0.weight\n",
        "features.4.2.block.0.1.weight\n",
        "features.4.2.block.0.1.bias\n",
        "features.4.2.block.1.0.weight\n",
        "features.4.2.block.1.1.weight\n",
        "features.4.2.block.1.1.bias\n",
        "features.4.2.block.2.fc1.weight\n",
        "features.4.2.block.2.fc1.bias\n",
        "features.4.2.block.2.fc2.weight\n",
        "features.4.2.block.2.fc2.bias\n",
        "features.4.2.block.3.0.weight\n",
        "features.4.2.block.3.1.weight\n",
        "features.4.2.block.3.1.bias\n",
        "features.4.3.block.0.0.weight\n",
        "features.4.3.block.0.1.weight\n",
        "features.4.3.block.0.1.bias\n",
        "features.4.3.block.1.0.weight\n",
        "features.4.3.block.1.1.weight\n",
        "features.4.3.block.1.1.bias\n",
        "features.4.3.block.2.fc1.weight\n",
        "features.4.3.block.2.fc1.bias\n",
        "features.4.3.block.2.fc2.weight\n",
        "features.4.3.block.2.fc2.bias\n",
        "features.4.3.block.3.0.weight\n",
        "features.4.3.block.3.1.weight\n",
        "features.4.3.block.3.1.bias\n",
        "features.4.4.block.0.0.weight\n",
        "features.4.4.block.0.1.weight\n",
        "features.4.4.block.0.1.bias\n",
        "features.4.4.block.1.0.weight\n",
        "features.4.4.block.1.1.weight\n",
        "features.4.4.block.1.1.bias\n",
        "features.4.4.block.2.fc1.weight\n",
        "features.4.4.block.2.fc1.bias\n",
        "features.4.4.block.2.fc2.weight\n",
        "features.4.4.block.2.fc2.bias\n",
        "features.4.4.block.3.0.weight\n",
        "features.4.4.block.3.1.weight\n",
        "features.4.4.block.3.1.bias\n",
        "features.4.5.block.0.0.weight\n",
        "features.4.5.block.0.1.weight\n",
        "features.4.5.block.0.1.bias\n",
        "features.4.5.block.1.0.weight\n",
        "features.4.5.block.1.1.weight\n",
        "features.4.5.block.1.1.bias\n",
        "features.4.5.block.2.fc1.weight\n",
        "features.4.5.block.2.fc1.bias\n",
        "features.4.5.block.2.fc2.weight\n",
        "features.4.5.block.2.fc2.bias\n",
        "features.4.5.block.3.0.weight\n",
        "features.4.5.block.3.1.weight\n",
        "features.4.5.block.3.1.bias\n",
        "features.4.6.block.0.0.weight\n",
        "features.4.6.block.0.1.weight\n",
        "features.4.6.block.0.1.bias\n",
        "features.4.6.block.1.0.weight\n",
        "features.4.6.block.1.1.weight\n",
        "features.4.6.block.1.1.bias\n",
        "features.4.6.block.2.fc1.weight\n",
        "features.4.6.block.2.fc1.bias\n",
        "features.4.6.block.2.fc2.weight\n",
        "features.4.6.block.2.fc2.bias\n",
        "features.4.6.block.3.0.weight\n",
        "features.4.6.block.3.1.weight\n",
        "features.4.6.block.3.1.bias\n",
        "features.4.7.block.0.0.weight\n",
        "features.4.7.block.0.1.weight\n",
        "features.4.7.block.0.1.bias\n",
        "features.4.7.block.1.0.weight\n",
        "features.4.7.block.1.1.weight\n",
        "features.4.7.block.1.1.bias\n",
        "features.4.7.block.2.fc1.weight\n",
        "features.4.7.block.2.fc1.bias\n",
        "features.4.7.block.2.fc2.weight\n",
        "features.4.7.block.2.fc2.bias\n",
        "features.4.7.block.3.0.weight\n",
        "features.4.7.block.3.1.weight\n",
        "features.4.7.block.3.1.bias\n",
        "features.4.8.block.0.0.weight\n",
        "features.4.8.block.0.1.weight\n",
        "features.4.8.block.0.1.bias\n",
        "features.4.8.block.1.0.weight\n",
        "features.4.8.block.1.1.weight\n",
        "features.4.8.block.1.1.bias\n",
        "features.4.8.block.2.fc1.weight\n",
        "features.4.8.block.2.fc1.bias\n",
        "features.4.8.block.2.fc2.weight\n",
        "features.4.8.block.2.fc2.bias\n",
        "features.4.8.block.3.0.weight\n",
        "features.4.8.block.3.1.weight\n",
        "features.4.8.block.3.1.bias\n",
        "features.4.9.block.0.0.weight\n",
        "features.4.9.block.0.1.weight\n",
        "features.4.9.block.0.1.bias\n",
        "features.4.9.block.1.0.weight\n",
        "features.4.9.block.1.1.weight\n",
        "features.4.9.block.1.1.bias\n",
        "features.4.9.block.2.fc1.weight\n",
        "features.4.9.block.2.fc1.bias\n",
        "features.4.9.block.2.fc2.weight\n",
        "features.4.9.block.2.fc2.bias\n",
        "features.4.9.block.3.0.weight\n",
        "features.4.9.block.3.1.weight\n",
        "features.4.9.block.3.1.bias\n",
        "features.5.0.block.0.0.weight\n",
        "features.5.0.block.0.1.weight\n",
        "features.5.0.block.0.1.bias\n",
        "features.5.0.block.1.0.weight\n",
        "features.5.0.block.1.1.weight\n",
        "features.5.0.block.1.1.bias\n",
        "features.5.0.block.2.fc1.weight\n",
        "features.5.0.block.2.fc1.bias\n",
        "features.5.0.block.2.fc2.weight\n",
        "features.5.0.block.2.fc2.bias\n",
        "features.5.0.block.3.0.weight\n",
        "features.5.0.block.3.1.weight\n",
        "features.5.0.block.3.1.bias\n",
        "features.5.1.block.0.0.weight\n",
        "features.5.1.block.0.1.weight\n",
        "features.5.1.block.0.1.bias\n",
        "features.5.1.block.1.0.weight\n",
        "features.5.1.block.1.1.weight\n",
        "features.5.1.block.1.1.bias\n",
        "features.5.1.block.2.fc1.weight\n",
        "features.5.1.block.2.fc1.bias\n",
        "features.5.1.block.2.fc2.weight\n",
        "features.5.1.block.2.fc2.bias\n",
        "features.5.1.block.3.0.weight\n",
        "features.5.1.block.3.1.weight\n",
        "features.5.1.block.3.1.bias\n",
        "features.5.2.block.0.0.weight\n",
        "features.5.2.block.0.1.weight\n",
        "features.5.2.block.0.1.bias\n",
        "features.5.2.block.1.0.weight\n",
        "features.5.2.block.1.1.weight\n",
        "features.5.2.block.1.1.bias\n",
        "features.5.2.block.2.fc1.weight\n",
        "features.5.2.block.2.fc1.bias\n",
        "features.5.2.block.2.fc2.weight\n",
        "features.5.2.block.2.fc2.bias\n",
        "features.5.2.block.3.0.weight\n",
        "features.5.2.block.3.1.weight\n",
        "features.5.2.block.3.1.bias\n",
        "features.5.3.block.0.0.weight\n",
        "features.5.3.block.0.1.weight\n",
        "features.5.3.block.0.1.bias\n",
        "features.5.3.block.1.0.weight\n",
        "features.5.3.block.1.1.weight\n",
        "features.5.3.block.1.1.bias\n",
        "features.5.3.block.2.fc1.weight\n",
        "features.5.3.block.2.fc1.bias\n",
        "features.5.3.block.2.fc2.weight\n",
        "features.5.3.block.2.fc2.bias\n",
        "features.5.3.block.3.0.weight\n",
        "features.5.3.block.3.1.weight\n",
        "features.5.3.block.3.1.bias\n",
        "features.5.4.block.0.0.weight\n",
        "features.5.4.block.0.1.weight\n",
        "features.5.4.block.0.1.bias\n",
        "features.5.4.block.1.0.weight\n",
        "features.5.4.block.1.1.weight\n",
        "features.5.4.block.1.1.bias\n",
        "features.5.4.block.2.fc1.weight\n",
        "features.5.4.block.2.fc1.bias\n",
        "features.5.4.block.2.fc2.weight\n",
        "features.5.4.block.2.fc2.bias\n",
        "features.5.4.block.3.0.weight\n",
        "features.5.4.block.3.1.weight\n",
        "features.5.4.block.3.1.bias\n",
        "features.5.5.block.0.0.weight\n",
        "features.5.5.block.0.1.weight\n",
        "features.5.5.block.0.1.bias\n",
        "features.5.5.block.1.0.weight\n",
        "features.5.5.block.1.1.weight\n",
        "features.5.5.block.1.1.bias\n",
        "features.5.5.block.2.fc1.weight\n",
        "features.5.5.block.2.fc1.bias\n",
        "features.5.5.block.2.fc2.weight\n",
        "features.5.5.block.2.fc2.bias\n",
        "features.5.5.block.3.0.weight\n",
        "features.5.5.block.3.1.weight\n",
        "features.5.5.block.3.1.bias\n",
        "features.5.6.block.0.0.weight\n",
        "features.5.6.block.0.1.weight\n",
        "features.5.6.block.0.1.bias\n",
        "features.5.6.block.1.0.weight\n",
        "features.5.6.block.1.1.weight\n",
        "features.5.6.block.1.1.bias\n",
        "features.5.6.block.2.fc1.weight\n",
        "features.5.6.block.2.fc1.bias\n",
        "features.5.6.block.2.fc2.weight\n",
        "features.5.6.block.2.fc2.bias\n",
        "features.5.6.block.3.0.weight\n",
        "features.5.6.block.3.1.weight\n",
        "features.5.6.block.3.1.bias\n",
        "features.5.7.block.0.0.weight\n",
        "features.5.7.block.0.1.weight\n",
        "features.5.7.block.0.1.bias\n",
        "features.5.7.block.1.0.weight\n",
        "features.5.7.block.1.1.weight\n",
        "features.5.7.block.1.1.bias\n",
        "features.5.7.block.2.fc1.weight\n",
        "features.5.7.block.2.fc1.bias\n",
        "features.5.7.block.2.fc2.weight\n",
        "features.5.7.block.2.fc2.bias\n",
        "features.5.7.block.3.0.weight\n",
        "features.5.7.block.3.1.weight\n",
        "features.5.7.block.3.1.bias\n",
        "features.5.8.block.0.0.weight\n",
        "features.5.8.block.0.1.weight\n",
        "features.5.8.block.0.1.bias\n",
        "features.5.8.block.1.0.weight\n",
        "features.5.8.block.1.1.weight\n",
        "features.5.8.block.1.1.bias\n",
        "features.5.8.block.2.fc1.weight\n",
        "features.5.8.block.2.fc1.bias\n",
        "features.5.8.block.2.fc2.weight\n",
        "features.5.8.block.2.fc2.bias\n",
        "features.5.8.block.3.0.weight\n",
        "features.5.8.block.3.1.weight\n",
        "features.5.8.block.3.1.bias\n",
        "features.5.9.block.0.0.weight\n",
        "features.5.9.block.0.1.weight\n",
        "features.5.9.block.0.1.bias\n",
        "features.5.9.block.1.0.weight\n",
        "features.5.9.block.1.1.weight\n",
        "features.5.9.block.1.1.bias\n",
        "features.5.9.block.2.fc1.weight\n",
        "features.5.9.block.2.fc1.bias\n",
        "features.5.9.block.2.fc2.weight\n",
        "features.5.9.block.2.fc2.bias\n",
        "features.5.9.block.3.0.weight\n",
        "features.5.9.block.3.1.weight\n",
        "features.5.9.block.3.1.bias\n",
        "features.6.0.block.0.0.weight\n",
        "features.6.0.block.0.1.weight\n",
        "features.6.0.block.0.1.bias\n",
        "features.6.0.block.1.0.weight\n",
        "features.6.0.block.1.1.weight\n",
        "features.6.0.block.1.1.bias\n",
        "features.6.0.block.2.fc1.weight\n",
        "features.6.0.block.2.fc1.bias\n",
        "features.6.0.block.2.fc2.weight\n",
        "features.6.0.block.2.fc2.bias\n",
        "features.6.0.block.3.0.weight\n",
        "features.6.0.block.3.1.weight\n",
        "features.6.0.block.3.1.bias\n",
        "features.6.1.block.0.0.weight\n",
        "features.6.1.block.0.1.weight\n",
        "features.6.1.block.0.1.bias\n",
        "features.6.1.block.1.0.weight\n",
        "features.6.1.block.1.1.weight\n",
        "features.6.1.block.1.1.bias\n",
        "features.6.1.block.2.fc1.weight\n",
        "features.6.1.block.2.fc1.bias\n",
        "features.6.1.block.2.fc2.weight\n",
        "features.6.1.block.2.fc2.bias\n",
        "features.6.1.block.3.0.weight\n",
        "features.6.1.block.3.1.weight\n",
        "features.6.1.block.3.1.bias\n",
        "features.6.2.block.0.0.weight\n",
        "features.6.2.block.0.1.weight\n",
        "features.6.2.block.0.1.bias\n",
        "features.6.2.block.1.0.weight\n",
        "features.6.2.block.1.1.weight\n",
        "features.6.2.block.1.1.bias\n",
        "features.6.2.block.2.fc1.weight\n",
        "features.6.2.block.2.fc1.bias\n",
        "features.6.2.block.2.fc2.weight\n",
        "features.6.2.block.2.fc2.bias\n",
        "features.6.2.block.3.0.weight\n",
        "features.6.2.block.3.1.weight\n",
        "features.6.2.block.3.1.bias\n",
        "features.6.3.block.0.0.weight\n",
        "features.6.3.block.0.1.weight\n",
        "features.6.3.block.0.1.bias\n",
        "features.6.3.block.1.0.weight\n",
        "features.6.3.block.1.1.weight\n",
        "features.6.3.block.1.1.bias\n",
        "features.6.3.block.2.fc1.weight\n",
        "features.6.3.block.2.fc1.bias\n",
        "features.6.3.block.2.fc2.weight\n",
        "features.6.3.block.2.fc2.bias\n",
        "features.6.3.block.3.0.weight\n",
        "features.6.3.block.3.1.weight\n",
        "features.6.3.block.3.1.bias\n",
        "features.6.4.block.0.0.weight\n",
        "features.6.4.block.0.1.weight\n",
        "features.6.4.block.0.1.bias\n",
        "features.6.4.block.1.0.weight\n",
        "features.6.4.block.1.1.weight\n",
        "features.6.4.block.1.1.bias\n",
        "features.6.4.block.2.fc1.weight\n",
        "features.6.4.block.2.fc1.bias\n",
        "features.6.4.block.2.fc2.weight\n",
        "features.6.4.block.2.fc2.bias\n",
        "features.6.4.block.3.0.weight\n",
        "features.6.4.block.3.1.weight\n",
        "features.6.4.block.3.1.bias\n",
        "features.6.5.block.0.0.weight\n",
        "features.6.5.block.0.1.weight\n",
        "features.6.5.block.0.1.bias\n",
        "features.6.5.block.1.0.weight\n",
        "features.6.5.block.1.1.weight\n",
        "features.6.5.block.1.1.bias\n",
        "features.6.5.block.2.fc1.weight\n",
        "features.6.5.block.2.fc1.bias\n",
        "features.6.5.block.2.fc2.weight\n",
        "features.6.5.block.2.fc2.bias\n",
        "features.6.5.block.3.0.weight\n",
        "features.6.5.block.3.1.weight\n",
        "features.6.5.block.3.1.bias\n",
        "features.6.6.block.0.0.weight\n",
        "features.6.6.block.0.1.weight\n",
        "features.6.6.block.0.1.bias\n",
        "features.6.6.block.1.0.weight\n",
        "features.6.6.block.1.1.weight\n",
        "features.6.6.block.1.1.bias\n",
        "features.6.6.block.2.fc1.weight\n",
        "features.6.6.block.2.fc1.bias\n",
        "features.6.6.block.2.fc2.weight\n",
        "features.6.6.block.2.fc2.bias\n",
        "features.6.6.block.3.0.weight\n",
        "features.6.6.block.3.1.weight\n",
        "features.6.6.block.3.1.bias\n",
        "features.6.7.block.0.0.weight\n",
        "features.6.7.block.0.1.weight\n",
        "features.6.7.block.0.1.bias\n",
        "features.6.7.block.1.0.weight\n",
        "features.6.7.block.1.1.weight\n",
        "features.6.7.block.1.1.bias\n",
        "features.6.7.block.2.fc1.weight\n",
        "features.6.7.block.2.fc1.bias\n",
        "features.6.7.block.2.fc2.weight\n",
        "features.6.7.block.2.fc2.bias\n",
        "features.6.7.block.3.0.weight\n",
        "features.6.7.block.3.1.weight\n",
        "features.6.7.block.3.1.bias\n",
        "features.6.8.block.0.0.weight\n",
        "features.6.8.block.0.1.weight\n",
        "features.6.8.block.0.1.bias\n",
        "features.6.8.block.1.0.weight\n",
        "features.6.8.block.1.1.weight\n",
        "features.6.8.block.1.1.bias\n",
        "features.6.8.block.2.fc1.weight\n",
        "features.6.8.block.2.fc1.bias\n",
        "features.6.8.block.2.fc2.weight\n",
        "features.6.8.block.2.fc2.bias\n",
        "features.6.8.block.3.0.weight\n",
        "features.6.8.block.3.1.weight\n",
        "features.6.8.block.3.1.bias\n",
        "features.6.9.block.0.0.weight\n",
        "features.6.9.block.0.1.weight\n",
        "features.6.9.block.0.1.bias\n",
        "features.6.9.block.1.0.weight\n",
        "features.6.9.block.1.1.weight\n",
        "features.6.9.block.1.1.bias\n",
        "features.6.9.block.2.fc1.weight\n",
        "features.6.9.block.2.fc1.bias\n",
        "features.6.9.block.2.fc2.weight\n",
        "features.6.9.block.2.fc2.bias\n",
        "features.6.9.block.3.0.weight\n",
        "features.6.9.block.3.1.weight\n",
        "features.6.9.block.3.1.bias\n",
        "features.6.10.block.0.0.weight\n",
        "features.6.10.block.0.1.weight\n",
        "features.6.10.block.0.1.bias\n",
        "features.6.10.block.1.0.weight\n",
        "features.6.10.block.1.1.weight\n",
        "features.6.10.block.1.1.bias\n",
        "features.6.10.block.2.fc1.weight\n",
        "features.6.10.block.2.fc1.bias\n",
        "features.6.10.block.2.fc2.weight\n",
        "features.6.10.block.2.fc2.bias\n",
        "features.6.10.block.3.0.weight\n",
        "features.6.10.block.3.1.weight\n",
        "features.6.10.block.3.1.bias\n",
        "features.6.11.block.0.0.weight\n",
        "features.6.11.block.0.1.weight\n",
        "features.6.11.block.0.1.bias\n",
        "features.6.11.block.1.0.weight\n",
        "features.6.11.block.1.1.weight\n",
        "features.6.11.block.1.1.bias\n",
        "features.6.11.block.2.fc1.weight\n",
        "features.6.11.block.2.fc1.bias\n",
        "features.6.11.block.2.fc2.weight\n",
        "features.6.11.block.2.fc2.bias\n",
        "features.6.11.block.3.0.weight\n",
        "features.6.11.block.3.1.weight\n",
        "features.6.11.block.3.1.bias\n",
        "features.6.12.block.0.0.weight\n",
        "features.6.12.block.0.1.weight\n",
        "features.6.12.block.0.1.bias\n",
        "features.6.12.block.1.0.weight\n",
        "features.6.12.block.1.1.weight\n",
        "features.6.12.block.1.1.bias\n",
        "features.6.12.block.2.fc1.weight\n",
        "features.6.12.block.2.fc1.bias\n",
        "features.6.12.block.2.fc2.weight\n",
        "features.6.12.block.2.fc2.bias\n",
        "features.6.12.block.3.0.weight\n",
        "features.6.12.block.3.1.weight\n",
        "features.6.12.block.3.1.bias\n",
        "features.7.0.block.0.0.weight\n",
        "features.7.0.block.0.1.weight\n",
        "features.7.0.block.0.1.bias\n",
        "features.7.0.block.1.0.weight\n",
        "features.7.0.block.1.1.weight\n",
        "features.7.0.block.1.1.bias\n",
        "features.7.0.block.2.fc1.weight\n",
        "features.7.0.block.2.fc1.bias\n",
        "features.7.0.block.2.fc2.weight\n",
        "features.7.0.block.2.fc2.bias\n",
        "features.7.0.block.3.0.weight\n",
        "features.7.0.block.3.1.weight\n",
        "features.7.0.block.3.1.bias\n",
        "features.7.1.block.0.0.weight\n",
        "features.7.1.block.0.1.weight\n",
        "features.7.1.block.0.1.bias\n",
        "features.7.1.block.1.0.weight\n",
        "features.7.1.block.1.1.weight\n",
        "features.7.1.block.1.1.bias\n",
        "features.7.1.block.2.fc1.weight\n",
        "features.7.1.block.2.fc1.bias\n",
        "features.7.1.block.2.fc2.weight\n",
        "features.7.1.block.2.fc2.bias\n",
        "features.7.1.block.3.0.weight\n",
        "features.7.1.block.3.1.weight\n",
        "features.7.1.block.3.1.bias\n",
        "features.7.2.block.0.0.weight\n",
        "features.7.2.block.0.1.weight\n",
        "features.7.2.block.0.1.bias\n",
        "features.7.2.block.1.0.weight\n",
        "features.7.2.block.1.1.weight\n",
        "features.7.2.block.1.1.bias\n",
        "features.7.2.block.2.fc1.weight\n",
        "features.7.2.block.2.fc1.bias\n",
        "features.7.2.block.2.fc2.weight\n",
        "features.7.2.block.2.fc2.bias\n",
        "features.7.2.block.3.0.weight\n",
        "features.7.2.block.3.1.weight\n",
        "features.7.2.block.3.1.bias\n",
        "features.7.3.block.0.0.weight\n",
        "features.7.3.block.0.1.weight\n",
        "features.7.3.block.0.1.bias\n",
        "features.7.3.block.1.0.weight\n",
        "features.7.3.block.1.1.weight\n",
        "features.7.3.block.1.1.bias\n",
        "features.7.3.block.2.fc1.weight\n",
        "features.7.3.block.2.fc1.bias\n",
        "features.7.3.block.2.fc2.weight\n",
        "features.7.3.block.2.fc2.bias\n",
        "features.7.3.block.3.0.weight\n",
        "features.7.3.block.3.1.weight\n",
        "features.7.3.block.3.1.bias\n",
        "features.8.0.weight\n",
        "features.8.1.weight\n",
        "features.8.1.bias\n",
        "classifier.1.weight\n",
        "classifier.1.bias\n",
        "```\n"
      ],
      "metadata": {
        "id": "X3SFP5oVpmyI"
      }
    },
    {
      "cell_type": "code",
      "metadata": {
        "id": "Ls8X6J39Fn3v"
      },
      "source": [
        "# 最適化手法の設定\n",
        "# optimizer = optim.SGD(params=params_to_update, lr=0.001, momentum=0.9)\n",
        "# optimizer = optim.Adadelta(params=params_to_update, lr=1.0, rho=0.95)\n",
        "optimizer = optim.Adam(params=params_to_update, lr=0.001, amsgrad=False)"
      ],
      "execution_count": 44,
      "outputs": []
    },
    {
      "cell_type": "markdown",
      "source": [
        "### 学習メモ\n",
        "\n",
        "- vgg16が精度が良い\n",
        "- optimizerはSGDの方がなぜか良い?\n",
        " - 調べても、Adadeltaの方が精度的にはいいはずなのに\n",
        " - パラメータ値の設定などを見直す"
      ],
      "metadata": {
        "id": "xRpWO1w4MbBq"
      }
    },
    {
      "cell_type": "code",
      "metadata": {
        "id": "Z36A1m9oFn6a"
      },
      "source": [
        "# モデルを学習させる関数を作成\n",
        "\n",
        "def train_model(net, dataloaders_dict, criterion, optimizer, num_epochs):\n",
        "\n",
        "    all_epoch_acc = []  # 正解率リストに保存\n",
        "    count = 0\n",
        "\n",
        "    # epochのループ\n",
        "    for epoch in range(num_epochs):\n",
        "        print('Epoch {}/{}'.format(epoch+1, num_epochs))\n",
        "        print('-------------')\n",
        "\n",
        "        # epochごとの学習と検証のループ\n",
        "        for phase in ['train', 'val']:\n",
        "            if phase == 'train':\n",
        "                net.train()  # モデルを訓練モードに\n",
        "            else:\n",
        "                net.eval()   # モデルを検証モードに\n",
        "\n",
        "            epoch_loss = 0.0  # epochの損失和\n",
        "            epoch_corrects = 0  # epochの正解数\n",
        "            \n",
        "\n",
        "            # 未学習時の検証性能を確かめるため、epoch=0の訓練は省略\n",
        "            if (epoch == 0) and (phase == 'train'):\n",
        "                continue\n",
        "\n",
        "            # データローダーからミニバッチを取り出すループ\n",
        "            for inputs, labels in tqdm(dataloaders_dict[phase]):\n",
        "\n",
        "                # optimizerを初期化\n",
        "                optimizer.zero_grad()\n",
        "\n",
        "                # 順伝搬（forward）計算\n",
        "                with torch.set_grad_enabled(phase == 'train'):\n",
        "                    outputs = net(inputs)\n",
        "                    loss = criterion(outputs, labels)  # 損失を計算\n",
        "                    _, preds = torch.max(outputs, 1)  # ラベルを予測\n",
        "                  \n",
        "                    # 訓練時はバックプロパゲーション\n",
        "                    if phase == 'train':\n",
        "                        loss.backward()\n",
        "                        optimizer.step()\n",
        "\n",
        "                    # 更新前のlossを保持\n",
        "                    before_epoch_loss = epoch_loss\n",
        "\n",
        "                    # イタレーション結果の計算\n",
        "                    # lossの合計を更新\n",
        "                    epoch_loss += loss.item() * inputs.size(0)  \n",
        "                    # 正解数の合計を更新\n",
        "                    epoch_corrects += torch.sum(preds == labels.data)\n",
        "                    \n",
        "\n",
        "            # epochごとのlossと正解率を表示\n",
        "            epoch_loss = epoch_loss / len(dataloaders_dict[phase].dataset)\n",
        "            epoch_acc = epoch_corrects.double() / len(dataloaders_dict[phase].dataset)\n",
        "            # 更新前のepochごとのlossと正解率を表示\n",
        "            before_epoch_loss = before_epoch_loss / len(dataloaders_dict[phase].dataset)\n",
        "            # 検証の正解率を保持\n",
        "            if phase == \"val\":\n",
        "              all_epoch_acc.append(format(epoch_acc, '.4f'))\n",
        "              count += 1\n",
        "\n",
        "            if count-1 != 0 and phase == \"val\":\n",
        "              # 一番良いモデルを保存\n",
        "              if format(epoch_acc, '.4f') > max(all_epoch_acc[:-1]):\n",
        "                \n",
        "                torch.save(net.state_dict(), save_path)\n",
        "\n",
        "            print('{} Loss: {:.4f} Acc: {:.4f}'.format(\n",
        "                phase, epoch_loss, epoch_acc))\n",
        "            \n",
        "    print(\"max_num: \", max(all_epoch_acc))"
      ],
      "execution_count": 45,
      "outputs": []
    },
    {
      "cell_type": "code",
      "source": [
        "# 学習・検証を実行する\n",
        "num_epochs=50\n",
        "print(\"学習モデル:\", model)\n",
        "train_model(net, dataloaders_dict, criterion, optimizer, num_epochs=num_epochs)"
      ],
      "metadata": {
        "colab": {
          "base_uri": "https://localhost:8080/"
        },
        "id": "Wh7q2zgVEr8E",
        "outputId": "fa9cfcfd-af0a-4063-82ed-b88dbab405f3"
      },
      "execution_count": 46,
      "outputs": [
        {
          "output_type": "stream",
          "name": "stdout",
          "text": [
            "学習モデル: resnet\n",
            "Epoch 1/50\n",
            "-------------\n"
          ]
        },
        {
          "output_type": "stream",
          "name": "stderr",
          "text": [
            "100%|██████████| 3/3 [00:02<00:00,  1.02it/s]\n"
          ]
        },
        {
          "output_type": "stream",
          "name": "stdout",
          "text": [
            "val Loss: 0.6520 Acc: 0.6042\n",
            "Epoch 2/50\n",
            "-------------\n"
          ]
        },
        {
          "output_type": "stream",
          "name": "stderr",
          "text": [
            "100%|██████████| 5/5 [00:06<00:00,  1.34s/it]\n"
          ]
        },
        {
          "output_type": "stream",
          "name": "stdout",
          "text": [
            "train Loss: 0.6936 Acc: 0.5500\n"
          ]
        },
        {
          "output_type": "stream",
          "name": "stderr",
          "text": [
            "100%|██████████| 3/3 [00:02<00:00,  1.08it/s]\n"
          ]
        },
        {
          "output_type": "stream",
          "name": "stdout",
          "text": [
            "val Loss: 0.5186 Acc: 0.7917\n",
            "Epoch 3/50\n",
            "-------------\n"
          ]
        },
        {
          "output_type": "stream",
          "name": "stderr",
          "text": [
            "100%|██████████| 5/5 [00:06<00:00,  1.34s/it]\n"
          ]
        },
        {
          "output_type": "stream",
          "name": "stdout",
          "text": [
            "train Loss: 0.4968 Acc: 0.8200\n"
          ]
        },
        {
          "output_type": "stream",
          "name": "stderr",
          "text": [
            "100%|██████████| 3/3 [00:02<00:00,  1.08it/s]\n"
          ]
        },
        {
          "output_type": "stream",
          "name": "stdout",
          "text": [
            "val Loss: 0.4821 Acc: 0.7708\n",
            "Epoch 4/50\n",
            "-------------\n"
          ]
        },
        {
          "output_type": "stream",
          "name": "stderr",
          "text": [
            "100%|██████████| 5/5 [00:06<00:00,  1.38s/it]\n"
          ]
        },
        {
          "output_type": "stream",
          "name": "stdout",
          "text": [
            "train Loss: 0.4309 Acc: 0.8400\n"
          ]
        },
        {
          "output_type": "stream",
          "name": "stderr",
          "text": [
            "100%|██████████| 3/3 [00:02<00:00,  1.07it/s]\n"
          ]
        },
        {
          "output_type": "stream",
          "name": "stdout",
          "text": [
            "val Loss: 0.4754 Acc: 0.7083\n",
            "Epoch 5/50\n",
            "-------------\n"
          ]
        },
        {
          "output_type": "stream",
          "name": "stderr",
          "text": [
            "100%|██████████| 5/5 [00:06<00:00,  1.31s/it]\n"
          ]
        },
        {
          "output_type": "stream",
          "name": "stdout",
          "text": [
            "train Loss: 0.3248 Acc: 0.9000\n"
          ]
        },
        {
          "output_type": "stream",
          "name": "stderr",
          "text": [
            "100%|██████████| 3/3 [00:02<00:00,  1.09it/s]\n"
          ]
        },
        {
          "output_type": "stream",
          "name": "stdout",
          "text": [
            "val Loss: 0.4691 Acc: 0.6875\n",
            "Epoch 6/50\n",
            "-------------\n"
          ]
        },
        {
          "output_type": "stream",
          "name": "stderr",
          "text": [
            "100%|██████████| 5/5 [00:06<00:00,  1.32s/it]\n"
          ]
        },
        {
          "output_type": "stream",
          "name": "stdout",
          "text": [
            "train Loss: 0.3038 Acc: 0.9000\n"
          ]
        },
        {
          "output_type": "stream",
          "name": "stderr",
          "text": [
            "100%|██████████| 3/3 [00:02<00:00,  1.09it/s]\n"
          ]
        },
        {
          "output_type": "stream",
          "name": "stdout",
          "text": [
            "val Loss: 0.4864 Acc: 0.7917\n",
            "Epoch 7/50\n",
            "-------------\n"
          ]
        },
        {
          "output_type": "stream",
          "name": "stderr",
          "text": [
            "100%|██████████| 5/5 [00:06<00:00,  1.32s/it]\n"
          ]
        },
        {
          "output_type": "stream",
          "name": "stdout",
          "text": [
            "train Loss: 0.2699 Acc: 0.9000\n"
          ]
        },
        {
          "output_type": "stream",
          "name": "stderr",
          "text": [
            "100%|██████████| 3/3 [00:02<00:00,  1.07it/s]\n"
          ]
        },
        {
          "output_type": "stream",
          "name": "stdout",
          "text": [
            "val Loss: 0.4518 Acc: 0.7292\n",
            "Epoch 8/50\n",
            "-------------\n"
          ]
        },
        {
          "output_type": "stream",
          "name": "stderr",
          "text": [
            "100%|██████████| 5/5 [00:06<00:00,  1.31s/it]\n"
          ]
        },
        {
          "output_type": "stream",
          "name": "stdout",
          "text": [
            "train Loss: 0.3052 Acc: 0.8800\n"
          ]
        },
        {
          "output_type": "stream",
          "name": "stderr",
          "text": [
            "100%|██████████| 3/3 [00:02<00:00,  1.07it/s]\n"
          ]
        },
        {
          "output_type": "stream",
          "name": "stdout",
          "text": [
            "val Loss: 0.4881 Acc: 0.7500\n",
            "Epoch 9/50\n",
            "-------------\n"
          ]
        },
        {
          "output_type": "stream",
          "name": "stderr",
          "text": [
            "100%|██████████| 5/5 [00:06<00:00,  1.32s/it]\n"
          ]
        },
        {
          "output_type": "stream",
          "name": "stdout",
          "text": [
            "train Loss: 0.2887 Acc: 0.8900\n"
          ]
        },
        {
          "output_type": "stream",
          "name": "stderr",
          "text": [
            "100%|██████████| 3/3 [00:02<00:00,  1.08it/s]\n"
          ]
        },
        {
          "output_type": "stream",
          "name": "stdout",
          "text": [
            "val Loss: 0.5555 Acc: 0.7500\n",
            "Epoch 10/50\n",
            "-------------\n"
          ]
        },
        {
          "output_type": "stream",
          "name": "stderr",
          "text": [
            "100%|██████████| 5/5 [00:06<00:00,  1.31s/it]\n"
          ]
        },
        {
          "output_type": "stream",
          "name": "stdout",
          "text": [
            "train Loss: 0.2688 Acc: 0.9100\n"
          ]
        },
        {
          "output_type": "stream",
          "name": "stderr",
          "text": [
            "100%|██████████| 3/3 [00:02<00:00,  1.07it/s]\n"
          ]
        },
        {
          "output_type": "stream",
          "name": "stdout",
          "text": [
            "val Loss: 0.4384 Acc: 0.7500\n",
            "Epoch 11/50\n",
            "-------------\n"
          ]
        },
        {
          "output_type": "stream",
          "name": "stderr",
          "text": [
            "100%|██████████| 5/5 [00:06<00:00,  1.32s/it]\n"
          ]
        },
        {
          "output_type": "stream",
          "name": "stdout",
          "text": [
            "train Loss: 0.1882 Acc: 0.9500\n"
          ]
        },
        {
          "output_type": "stream",
          "name": "stderr",
          "text": [
            "100%|██████████| 3/3 [00:02<00:00,  1.08it/s]\n"
          ]
        },
        {
          "output_type": "stream",
          "name": "stdout",
          "text": [
            "val Loss: 0.4683 Acc: 0.7500\n",
            "Epoch 12/50\n",
            "-------------\n"
          ]
        },
        {
          "output_type": "stream",
          "name": "stderr",
          "text": [
            "100%|██████████| 5/5 [00:06<00:00,  1.31s/it]\n"
          ]
        },
        {
          "output_type": "stream",
          "name": "stdout",
          "text": [
            "train Loss: 0.1847 Acc: 0.9400\n"
          ]
        },
        {
          "output_type": "stream",
          "name": "stderr",
          "text": [
            "100%|██████████| 3/3 [00:02<00:00,  1.07it/s]\n"
          ]
        },
        {
          "output_type": "stream",
          "name": "stdout",
          "text": [
            "val Loss: 0.4372 Acc: 0.7708\n",
            "Epoch 13/50\n",
            "-------------\n"
          ]
        },
        {
          "output_type": "stream",
          "name": "stderr",
          "text": [
            "100%|██████████| 5/5 [00:06<00:00,  1.31s/it]\n"
          ]
        },
        {
          "output_type": "stream",
          "name": "stdout",
          "text": [
            "train Loss: 0.1641 Acc: 0.9700\n"
          ]
        },
        {
          "output_type": "stream",
          "name": "stderr",
          "text": [
            "100%|██████████| 3/3 [00:02<00:00,  1.07it/s]\n"
          ]
        },
        {
          "output_type": "stream",
          "name": "stdout",
          "text": [
            "val Loss: 0.4543 Acc: 0.7708\n",
            "Epoch 14/50\n",
            "-------------\n"
          ]
        },
        {
          "output_type": "stream",
          "name": "stderr",
          "text": [
            "100%|██████████| 5/5 [00:06<00:00,  1.31s/it]\n"
          ]
        },
        {
          "output_type": "stream",
          "name": "stdout",
          "text": [
            "train Loss: 0.1923 Acc: 0.9300\n"
          ]
        },
        {
          "output_type": "stream",
          "name": "stderr",
          "text": [
            "100%|██████████| 3/3 [00:02<00:00,  1.08it/s]\n"
          ]
        },
        {
          "output_type": "stream",
          "name": "stdout",
          "text": [
            "val Loss: 0.4362 Acc: 0.7917\n",
            "Epoch 15/50\n",
            "-------------\n"
          ]
        },
        {
          "output_type": "stream",
          "name": "stderr",
          "text": [
            "100%|██████████| 5/5 [00:06<00:00,  1.32s/it]\n"
          ]
        },
        {
          "output_type": "stream",
          "name": "stdout",
          "text": [
            "train Loss: 0.1375 Acc: 0.9800\n"
          ]
        },
        {
          "output_type": "stream",
          "name": "stderr",
          "text": [
            "100%|██████████| 3/3 [00:02<00:00,  1.08it/s]\n"
          ]
        },
        {
          "output_type": "stream",
          "name": "stdout",
          "text": [
            "val Loss: 0.4304 Acc: 0.7708\n",
            "Epoch 16/50\n",
            "-------------\n"
          ]
        },
        {
          "output_type": "stream",
          "name": "stderr",
          "text": [
            "100%|██████████| 5/5 [00:06<00:00,  1.32s/it]\n"
          ]
        },
        {
          "output_type": "stream",
          "name": "stdout",
          "text": [
            "train Loss: 0.1503 Acc: 0.9500\n"
          ]
        },
        {
          "output_type": "stream",
          "name": "stderr",
          "text": [
            "100%|██████████| 3/3 [00:02<00:00,  1.08it/s]\n"
          ]
        },
        {
          "output_type": "stream",
          "name": "stdout",
          "text": [
            "val Loss: 0.4318 Acc: 0.7500\n",
            "Epoch 17/50\n",
            "-------------\n"
          ]
        },
        {
          "output_type": "stream",
          "name": "stderr",
          "text": [
            "100%|██████████| 5/5 [00:06<00:00,  1.31s/it]\n"
          ]
        },
        {
          "output_type": "stream",
          "name": "stdout",
          "text": [
            "train Loss: 0.1343 Acc: 0.9500\n"
          ]
        },
        {
          "output_type": "stream",
          "name": "stderr",
          "text": [
            "100%|██████████| 3/3 [00:02<00:00,  1.09it/s]\n"
          ]
        },
        {
          "output_type": "stream",
          "name": "stdout",
          "text": [
            "val Loss: 0.4459 Acc: 0.7917\n",
            "Epoch 18/50\n",
            "-------------\n"
          ]
        },
        {
          "output_type": "stream",
          "name": "stderr",
          "text": [
            "100%|██████████| 5/5 [00:06<00:00,  1.32s/it]\n"
          ]
        },
        {
          "output_type": "stream",
          "name": "stdout",
          "text": [
            "train Loss: 0.1364 Acc: 0.9600\n"
          ]
        },
        {
          "output_type": "stream",
          "name": "stderr",
          "text": [
            "100%|██████████| 3/3 [00:02<00:00,  1.07it/s]\n"
          ]
        },
        {
          "output_type": "stream",
          "name": "stdout",
          "text": [
            "val Loss: 0.4450 Acc: 0.7708\n",
            "Epoch 19/50\n",
            "-------------\n"
          ]
        },
        {
          "output_type": "stream",
          "name": "stderr",
          "text": [
            "100%|██████████| 5/5 [00:06<00:00,  1.31s/it]\n"
          ]
        },
        {
          "output_type": "stream",
          "name": "stdout",
          "text": [
            "train Loss: 0.1919 Acc: 0.9400\n"
          ]
        },
        {
          "output_type": "stream",
          "name": "stderr",
          "text": [
            "100%|██████████| 3/3 [00:02<00:00,  1.08it/s]\n"
          ]
        },
        {
          "output_type": "stream",
          "name": "stdout",
          "text": [
            "val Loss: 0.4441 Acc: 0.7708\n",
            "Epoch 20/50\n",
            "-------------\n"
          ]
        },
        {
          "output_type": "stream",
          "name": "stderr",
          "text": [
            "100%|██████████| 5/5 [00:06<00:00,  1.31s/it]\n"
          ]
        },
        {
          "output_type": "stream",
          "name": "stdout",
          "text": [
            "train Loss: 0.0916 Acc: 0.9900\n"
          ]
        },
        {
          "output_type": "stream",
          "name": "stderr",
          "text": [
            "100%|██████████| 3/3 [00:02<00:00,  1.08it/s]\n"
          ]
        },
        {
          "output_type": "stream",
          "name": "stdout",
          "text": [
            "val Loss: 0.4412 Acc: 0.7917\n",
            "Epoch 21/50\n",
            "-------------\n"
          ]
        },
        {
          "output_type": "stream",
          "name": "stderr",
          "text": [
            "100%|██████████| 5/5 [00:06<00:00,  1.32s/it]\n"
          ]
        },
        {
          "output_type": "stream",
          "name": "stdout",
          "text": [
            "train Loss: 0.0936 Acc: 1.0000\n"
          ]
        },
        {
          "output_type": "stream",
          "name": "stderr",
          "text": [
            "100%|██████████| 3/3 [00:02<00:00,  1.08it/s]\n"
          ]
        },
        {
          "output_type": "stream",
          "name": "stdout",
          "text": [
            "val Loss: 0.4504 Acc: 0.7708\n",
            "Epoch 22/50\n",
            "-------------\n"
          ]
        },
        {
          "output_type": "stream",
          "name": "stderr",
          "text": [
            "100%|██████████| 5/5 [00:06<00:00,  1.31s/it]\n"
          ]
        },
        {
          "output_type": "stream",
          "name": "stdout",
          "text": [
            "train Loss: 0.1127 Acc: 0.9900\n"
          ]
        },
        {
          "output_type": "stream",
          "name": "stderr",
          "text": [
            "100%|██████████| 3/3 [00:02<00:00,  1.07it/s]\n"
          ]
        },
        {
          "output_type": "stream",
          "name": "stdout",
          "text": [
            "val Loss: 0.4575 Acc: 0.7708\n",
            "Epoch 23/50\n",
            "-------------\n"
          ]
        },
        {
          "output_type": "stream",
          "name": "stderr",
          "text": [
            "100%|██████████| 5/5 [00:06<00:00,  1.32s/it]\n"
          ]
        },
        {
          "output_type": "stream",
          "name": "stdout",
          "text": [
            "train Loss: 0.1375 Acc: 0.9600\n"
          ]
        },
        {
          "output_type": "stream",
          "name": "stderr",
          "text": [
            "100%|██████████| 3/3 [00:02<00:00,  1.06it/s]\n"
          ]
        },
        {
          "output_type": "stream",
          "name": "stdout",
          "text": [
            "val Loss: 0.4568 Acc: 0.7708\n",
            "Epoch 24/50\n",
            "-------------\n"
          ]
        },
        {
          "output_type": "stream",
          "name": "stderr",
          "text": [
            "100%|██████████| 5/5 [00:06<00:00,  1.31s/it]\n"
          ]
        },
        {
          "output_type": "stream",
          "name": "stdout",
          "text": [
            "train Loss: 0.1628 Acc: 0.9500\n"
          ]
        },
        {
          "output_type": "stream",
          "name": "stderr",
          "text": [
            "100%|██████████| 3/3 [00:02<00:00,  1.08it/s]\n"
          ]
        },
        {
          "output_type": "stream",
          "name": "stdout",
          "text": [
            "val Loss: 0.4544 Acc: 0.7708\n",
            "Epoch 25/50\n",
            "-------------\n"
          ]
        },
        {
          "output_type": "stream",
          "name": "stderr",
          "text": [
            "100%|██████████| 5/5 [00:06<00:00,  1.31s/it]\n"
          ]
        },
        {
          "output_type": "stream",
          "name": "stdout",
          "text": [
            "train Loss: 0.1508 Acc: 0.9300\n"
          ]
        },
        {
          "output_type": "stream",
          "name": "stderr",
          "text": [
            "100%|██████████| 3/3 [00:02<00:00,  1.08it/s]\n"
          ]
        },
        {
          "output_type": "stream",
          "name": "stdout",
          "text": [
            "val Loss: 0.4430 Acc: 0.7708\n",
            "Epoch 26/50\n",
            "-------------\n"
          ]
        },
        {
          "output_type": "stream",
          "name": "stderr",
          "text": [
            "100%|██████████| 5/5 [00:06<00:00,  1.32s/it]\n"
          ]
        },
        {
          "output_type": "stream",
          "name": "stdout",
          "text": [
            "train Loss: 0.1016 Acc: 0.9800\n"
          ]
        },
        {
          "output_type": "stream",
          "name": "stderr",
          "text": [
            "100%|██████████| 3/3 [00:02<00:00,  1.07it/s]\n"
          ]
        },
        {
          "output_type": "stream",
          "name": "stdout",
          "text": [
            "val Loss: 0.4845 Acc: 0.7708\n",
            "Epoch 27/50\n",
            "-------------\n"
          ]
        },
        {
          "output_type": "stream",
          "name": "stderr",
          "text": [
            "100%|██████████| 5/5 [00:06<00:00,  1.33s/it]\n"
          ]
        },
        {
          "output_type": "stream",
          "name": "stdout",
          "text": [
            "train Loss: 0.1152 Acc: 0.9600\n"
          ]
        },
        {
          "output_type": "stream",
          "name": "stderr",
          "text": [
            "100%|██████████| 3/3 [00:02<00:00,  1.07it/s]\n"
          ]
        },
        {
          "output_type": "stream",
          "name": "stdout",
          "text": [
            "val Loss: 0.4508 Acc: 0.7917\n",
            "Epoch 28/50\n",
            "-------------\n"
          ]
        },
        {
          "output_type": "stream",
          "name": "stderr",
          "text": [
            "100%|██████████| 5/5 [00:06<00:00,  1.32s/it]\n"
          ]
        },
        {
          "output_type": "stream",
          "name": "stdout",
          "text": [
            "train Loss: 0.1116 Acc: 0.9800\n"
          ]
        },
        {
          "output_type": "stream",
          "name": "stderr",
          "text": [
            "100%|██████████| 3/3 [00:02<00:00,  1.09it/s]\n"
          ]
        },
        {
          "output_type": "stream",
          "name": "stdout",
          "text": [
            "val Loss: 0.4452 Acc: 0.7708\n",
            "Epoch 29/50\n",
            "-------------\n"
          ]
        },
        {
          "output_type": "stream",
          "name": "stderr",
          "text": [
            "100%|██████████| 5/5 [00:06<00:00,  1.32s/it]\n"
          ]
        },
        {
          "output_type": "stream",
          "name": "stdout",
          "text": [
            "train Loss: 0.1235 Acc: 0.9900\n"
          ]
        },
        {
          "output_type": "stream",
          "name": "stderr",
          "text": [
            "100%|██████████| 3/3 [00:02<00:00,  1.08it/s]\n"
          ]
        },
        {
          "output_type": "stream",
          "name": "stdout",
          "text": [
            "val Loss: 0.4566 Acc: 0.7708\n",
            "Epoch 30/50\n",
            "-------------\n"
          ]
        },
        {
          "output_type": "stream",
          "name": "stderr",
          "text": [
            "100%|██████████| 5/5 [00:06<00:00,  1.33s/it]\n"
          ]
        },
        {
          "output_type": "stream",
          "name": "stdout",
          "text": [
            "train Loss: 0.1399 Acc: 0.9300\n"
          ]
        },
        {
          "output_type": "stream",
          "name": "stderr",
          "text": [
            "100%|██████████| 3/3 [00:02<00:00,  1.08it/s]\n"
          ]
        },
        {
          "output_type": "stream",
          "name": "stdout",
          "text": [
            "val Loss: 0.4496 Acc: 0.7500\n",
            "Epoch 31/50\n",
            "-------------\n"
          ]
        },
        {
          "output_type": "stream",
          "name": "stderr",
          "text": [
            "100%|██████████| 5/5 [00:06<00:00,  1.31s/it]\n"
          ]
        },
        {
          "output_type": "stream",
          "name": "stdout",
          "text": [
            "train Loss: 0.1497 Acc: 0.9300\n"
          ]
        },
        {
          "output_type": "stream",
          "name": "stderr",
          "text": [
            "100%|██████████| 3/3 [00:02<00:00,  1.07it/s]\n"
          ]
        },
        {
          "output_type": "stream",
          "name": "stdout",
          "text": [
            "val Loss: 0.5132 Acc: 0.7917\n",
            "Epoch 32/50\n",
            "-------------\n"
          ]
        },
        {
          "output_type": "stream",
          "name": "stderr",
          "text": [
            "100%|██████████| 5/5 [00:06<00:00,  1.31s/it]\n"
          ]
        },
        {
          "output_type": "stream",
          "name": "stdout",
          "text": [
            "train Loss: 0.0675 Acc: 1.0000\n"
          ]
        },
        {
          "output_type": "stream",
          "name": "stderr",
          "text": [
            "100%|██████████| 3/3 [00:02<00:00,  1.07it/s]\n"
          ]
        },
        {
          "output_type": "stream",
          "name": "stdout",
          "text": [
            "val Loss: 0.4605 Acc: 0.7500\n",
            "Epoch 33/50\n",
            "-------------\n"
          ]
        },
        {
          "output_type": "stream",
          "name": "stderr",
          "text": [
            "100%|██████████| 5/5 [00:06<00:00,  1.31s/it]\n"
          ]
        },
        {
          "output_type": "stream",
          "name": "stdout",
          "text": [
            "train Loss: 0.1097 Acc: 0.9700\n"
          ]
        },
        {
          "output_type": "stream",
          "name": "stderr",
          "text": [
            "100%|██████████| 3/3 [00:02<00:00,  1.08it/s]\n"
          ]
        },
        {
          "output_type": "stream",
          "name": "stdout",
          "text": [
            "val Loss: 0.4873 Acc: 0.7708\n",
            "Epoch 34/50\n",
            "-------------\n"
          ]
        },
        {
          "output_type": "stream",
          "name": "stderr",
          "text": [
            "100%|██████████| 5/5 [00:06<00:00,  1.31s/it]\n"
          ]
        },
        {
          "output_type": "stream",
          "name": "stdout",
          "text": [
            "train Loss: 0.0769 Acc: 0.9900\n"
          ]
        },
        {
          "output_type": "stream",
          "name": "stderr",
          "text": [
            "100%|██████████| 3/3 [00:02<00:00,  1.07it/s]\n"
          ]
        },
        {
          "output_type": "stream",
          "name": "stdout",
          "text": [
            "val Loss: 0.4689 Acc: 0.7708\n",
            "Epoch 35/50\n",
            "-------------\n"
          ]
        },
        {
          "output_type": "stream",
          "name": "stderr",
          "text": [
            "100%|██████████| 5/5 [00:06<00:00,  1.34s/it]\n"
          ]
        },
        {
          "output_type": "stream",
          "name": "stdout",
          "text": [
            "train Loss: 0.1794 Acc: 0.9400\n"
          ]
        },
        {
          "output_type": "stream",
          "name": "stderr",
          "text": [
            "100%|██████████| 3/3 [00:02<00:00,  1.06it/s]\n"
          ]
        },
        {
          "output_type": "stream",
          "name": "stdout",
          "text": [
            "val Loss: 0.5135 Acc: 0.8125\n",
            "Epoch 36/50\n",
            "-------------\n"
          ]
        },
        {
          "output_type": "stream",
          "name": "stderr",
          "text": [
            "100%|██████████| 5/5 [00:06<00:00,  1.35s/it]\n"
          ]
        },
        {
          "output_type": "stream",
          "name": "stdout",
          "text": [
            "train Loss: 0.0957 Acc: 0.9800\n"
          ]
        },
        {
          "output_type": "stream",
          "name": "stderr",
          "text": [
            "100%|██████████| 3/3 [00:03<00:00,  1.02s/it]\n"
          ]
        },
        {
          "output_type": "stream",
          "name": "stdout",
          "text": [
            "val Loss: 0.4775 Acc: 0.7708\n",
            "Epoch 37/50\n",
            "-------------\n"
          ]
        },
        {
          "output_type": "stream",
          "name": "stderr",
          "text": [
            "100%|██████████| 5/5 [00:06<00:00,  1.31s/it]\n"
          ]
        },
        {
          "output_type": "stream",
          "name": "stdout",
          "text": [
            "train Loss: 0.1640 Acc: 0.9500\n"
          ]
        },
        {
          "output_type": "stream",
          "name": "stderr",
          "text": [
            "100%|██████████| 3/3 [00:02<00:00,  1.08it/s]\n"
          ]
        },
        {
          "output_type": "stream",
          "name": "stdout",
          "text": [
            "val Loss: 0.4958 Acc: 0.7500\n",
            "Epoch 38/50\n",
            "-------------\n"
          ]
        },
        {
          "output_type": "stream",
          "name": "stderr",
          "text": [
            "100%|██████████| 5/5 [00:06<00:00,  1.32s/it]\n"
          ]
        },
        {
          "output_type": "stream",
          "name": "stdout",
          "text": [
            "train Loss: 0.1371 Acc: 0.9400\n"
          ]
        },
        {
          "output_type": "stream",
          "name": "stderr",
          "text": [
            "100%|██████████| 3/3 [00:02<00:00,  1.08it/s]\n"
          ]
        },
        {
          "output_type": "stream",
          "name": "stdout",
          "text": [
            "val Loss: 0.4838 Acc: 0.7500\n",
            "Epoch 39/50\n",
            "-------------\n"
          ]
        },
        {
          "output_type": "stream",
          "name": "stderr",
          "text": [
            "100%|██████████| 5/5 [00:06<00:00,  1.32s/it]\n"
          ]
        },
        {
          "output_type": "stream",
          "name": "stdout",
          "text": [
            "train Loss: 0.0802 Acc: 0.9800\n"
          ]
        },
        {
          "output_type": "stream",
          "name": "stderr",
          "text": [
            "100%|██████████| 3/3 [00:02<00:00,  1.07it/s]\n"
          ]
        },
        {
          "output_type": "stream",
          "name": "stdout",
          "text": [
            "val Loss: 0.4782 Acc: 0.7500\n",
            "Epoch 40/50\n",
            "-------------\n"
          ]
        },
        {
          "output_type": "stream",
          "name": "stderr",
          "text": [
            "100%|██████████| 5/5 [00:06<00:00,  1.32s/it]\n"
          ]
        },
        {
          "output_type": "stream",
          "name": "stdout",
          "text": [
            "train Loss: 0.0764 Acc: 0.9800\n"
          ]
        },
        {
          "output_type": "stream",
          "name": "stderr",
          "text": [
            "100%|██████████| 3/3 [00:02<00:00,  1.08it/s]\n"
          ]
        },
        {
          "output_type": "stream",
          "name": "stdout",
          "text": [
            "val Loss: 0.4660 Acc: 0.7708\n",
            "Epoch 41/50\n",
            "-------------\n"
          ]
        },
        {
          "output_type": "stream",
          "name": "stderr",
          "text": [
            "100%|██████████| 5/5 [00:06<00:00,  1.32s/it]\n"
          ]
        },
        {
          "output_type": "stream",
          "name": "stdout",
          "text": [
            "train Loss: 0.0666 Acc: 0.9800\n"
          ]
        },
        {
          "output_type": "stream",
          "name": "stderr",
          "text": [
            "100%|██████████| 3/3 [00:02<00:00,  1.08it/s]\n"
          ]
        },
        {
          "output_type": "stream",
          "name": "stdout",
          "text": [
            "val Loss: 0.4740 Acc: 0.7708\n",
            "Epoch 42/50\n",
            "-------------\n"
          ]
        },
        {
          "output_type": "stream",
          "name": "stderr",
          "text": [
            "100%|██████████| 5/5 [00:06<00:00,  1.32s/it]\n"
          ]
        },
        {
          "output_type": "stream",
          "name": "stdout",
          "text": [
            "train Loss: 0.0546 Acc: 1.0000\n"
          ]
        },
        {
          "output_type": "stream",
          "name": "stderr",
          "text": [
            "100%|██████████| 3/3 [00:02<00:00,  1.07it/s]\n"
          ]
        },
        {
          "output_type": "stream",
          "name": "stdout",
          "text": [
            "val Loss: 0.5015 Acc: 0.7708\n",
            "Epoch 43/50\n",
            "-------------\n"
          ]
        },
        {
          "output_type": "stream",
          "name": "stderr",
          "text": [
            "100%|██████████| 5/5 [00:06<00:00,  1.31s/it]\n"
          ]
        },
        {
          "output_type": "stream",
          "name": "stdout",
          "text": [
            "train Loss: 0.1007 Acc: 0.9500\n"
          ]
        },
        {
          "output_type": "stream",
          "name": "stderr",
          "text": [
            "100%|██████████| 3/3 [00:02<00:00,  1.07it/s]\n"
          ]
        },
        {
          "output_type": "stream",
          "name": "stdout",
          "text": [
            "val Loss: 0.4958 Acc: 0.7500\n",
            "Epoch 44/50\n",
            "-------------\n"
          ]
        },
        {
          "output_type": "stream",
          "name": "stderr",
          "text": [
            "100%|██████████| 5/5 [00:06<00:00,  1.31s/it]\n"
          ]
        },
        {
          "output_type": "stream",
          "name": "stdout",
          "text": [
            "train Loss: 0.0692 Acc: 0.9900\n"
          ]
        },
        {
          "output_type": "stream",
          "name": "stderr",
          "text": [
            "100%|██████████| 3/3 [00:02<00:00,  1.07it/s]\n"
          ]
        },
        {
          "output_type": "stream",
          "name": "stdout",
          "text": [
            "val Loss: 0.4884 Acc: 0.7500\n",
            "Epoch 45/50\n",
            "-------------\n"
          ]
        },
        {
          "output_type": "stream",
          "name": "stderr",
          "text": [
            "100%|██████████| 5/5 [00:06<00:00,  1.32s/it]\n"
          ]
        },
        {
          "output_type": "stream",
          "name": "stdout",
          "text": [
            "train Loss: 0.0655 Acc: 0.9700\n"
          ]
        },
        {
          "output_type": "stream",
          "name": "stderr",
          "text": [
            "100%|██████████| 3/3 [00:02<00:00,  1.07it/s]\n"
          ]
        },
        {
          "output_type": "stream",
          "name": "stdout",
          "text": [
            "val Loss: 0.4868 Acc: 0.7708\n",
            "Epoch 46/50\n",
            "-------------\n"
          ]
        },
        {
          "output_type": "stream",
          "name": "stderr",
          "text": [
            "100%|██████████| 5/5 [00:06<00:00,  1.31s/it]\n"
          ]
        },
        {
          "output_type": "stream",
          "name": "stdout",
          "text": [
            "train Loss: 0.0682 Acc: 0.9900\n"
          ]
        },
        {
          "output_type": "stream",
          "name": "stderr",
          "text": [
            "100%|██████████| 3/3 [00:02<00:00,  1.08it/s]\n"
          ]
        },
        {
          "output_type": "stream",
          "name": "stdout",
          "text": [
            "val Loss: 0.4909 Acc: 0.7708\n",
            "Epoch 47/50\n",
            "-------------\n"
          ]
        },
        {
          "output_type": "stream",
          "name": "stderr",
          "text": [
            "100%|██████████| 5/5 [00:06<00:00,  1.32s/it]\n"
          ]
        },
        {
          "output_type": "stream",
          "name": "stdout",
          "text": [
            "train Loss: 0.1902 Acc: 0.9400\n"
          ]
        },
        {
          "output_type": "stream",
          "name": "stderr",
          "text": [
            "100%|██████████| 3/3 [00:02<00:00,  1.08it/s]\n"
          ]
        },
        {
          "output_type": "stream",
          "name": "stdout",
          "text": [
            "val Loss: 0.4774 Acc: 0.7500\n",
            "Epoch 48/50\n",
            "-------------\n"
          ]
        },
        {
          "output_type": "stream",
          "name": "stderr",
          "text": [
            "100%|██████████| 5/5 [00:06<00:00,  1.33s/it]\n"
          ]
        },
        {
          "output_type": "stream",
          "name": "stdout",
          "text": [
            "train Loss: 0.0642 Acc: 0.9900\n"
          ]
        },
        {
          "output_type": "stream",
          "name": "stderr",
          "text": [
            "100%|██████████| 3/3 [00:02<00:00,  1.07it/s]\n"
          ]
        },
        {
          "output_type": "stream",
          "name": "stdout",
          "text": [
            "val Loss: 0.5509 Acc: 0.8125\n",
            "Epoch 49/50\n",
            "-------------\n"
          ]
        },
        {
          "output_type": "stream",
          "name": "stderr",
          "text": [
            "100%|██████████| 5/5 [00:06<00:00,  1.31s/it]\n"
          ]
        },
        {
          "output_type": "stream",
          "name": "stdout",
          "text": [
            "train Loss: 0.0929 Acc: 0.9700\n"
          ]
        },
        {
          "output_type": "stream",
          "name": "stderr",
          "text": [
            "100%|██████████| 3/3 [00:02<00:00,  1.09it/s]\n"
          ]
        },
        {
          "output_type": "stream",
          "name": "stdout",
          "text": [
            "val Loss: 0.4757 Acc: 0.7500\n",
            "Epoch 50/50\n",
            "-------------\n"
          ]
        },
        {
          "output_type": "stream",
          "name": "stderr",
          "text": [
            "100%|██████████| 5/5 [00:06<00:00,  1.31s/it]\n"
          ]
        },
        {
          "output_type": "stream",
          "name": "stdout",
          "text": [
            "train Loss: 0.0892 Acc: 0.9800\n"
          ]
        },
        {
          "output_type": "stream",
          "name": "stderr",
          "text": [
            "100%|██████████| 3/3 [00:02<00:00,  1.08it/s]"
          ]
        },
        {
          "output_type": "stream",
          "name": "stdout",
          "text": [
            "val Loss: 0.4750 Acc: 0.7500\n",
            "max_num:  0.8125\n"
          ]
        },
        {
          "output_type": "stream",
          "name": "stderr",
          "text": [
            "\n"
          ]
        }
      ]
    },
    {
      "cell_type": "markdown",
      "source": [
        "### adam使用した場合\n",
        "- vgg16⇒0.8750\n",
        "- resnet⇒0.8125\n",
        "- efficientNet⇒0.8542\n",
        "\n",
        "### ファインチューニングした場合\n",
        "- vgg16⇒0.8750\n",
        "- resnet⇒0.8125\n",
        "- efficientNet⇒0.8542"
      ],
      "metadata": {
        "id": "QnwYWuxzMRuC"
      }
    },
    {
      "cell_type": "code",
      "metadata": {
        "id": "Z9MAwZQ8FoAZ"
      },
      "source": [
        "# やること\n",
        "\n",
        "# 学習率をグラフ化にする\n",
        "# テストデータで解析かける"
      ],
      "execution_count": 17,
      "outputs": []
    },
    {
      "cell_type": "code",
      "metadata": {
        "id": "C75avamPFoDJ"
      },
      "source": [],
      "execution_count": null,
      "outputs": []
    },
    {
      "cell_type": "code",
      "metadata": {
        "id": "2qKsBBG1FoFc"
      },
      "source": [],
      "execution_count": null,
      "outputs": []
    },
    {
      "cell_type": "code",
      "metadata": {
        "id": "8TJ8V26jFoIP"
      },
      "source": [],
      "execution_count": null,
      "outputs": []
    },
    {
      "cell_type": "code",
      "metadata": {
        "id": "284ZrPi4rHX2"
      },
      "source": [],
      "execution_count": null,
      "outputs": []
    },
    {
      "cell_type": "code",
      "metadata": {
        "id": "4vaiidagrHaO"
      },
      "source": [],
      "execution_count": null,
      "outputs": []
    },
    {
      "cell_type": "code",
      "metadata": {
        "colab": {
          "base_uri": "https://localhost:8080/"
        },
        "id": "bH04bOnIqFgw",
        "outputId": "42815065-2568-485a-e31b-c8d8506f6991"
      },
      "source": [
        "from google.colab import drive\n",
        "drive.mount('/content/drive')"
      ],
      "execution_count": null,
      "outputs": [
        {
          "output_type": "stream",
          "text": [
            "Drive already mounted at /content/drive; to attempt to forcibly remount, call drive.mount(\"/content/drive\", force_remount=True).\n"
          ],
          "name": "stdout"
        }
      ]
    },
    {
      "cell_type": "code",
      "metadata": {
        "id": "mjR6SSZBqNNp"
      },
      "source": [],
      "execution_count": null,
      "outputs": []
    }
  ]
}